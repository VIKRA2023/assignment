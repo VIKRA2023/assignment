{
 "cells": [
  {
   "cell_type": "markdown",
   "id": "153c5c2f-db63-4e79-ba0e-bbfc3cd89747",
   "metadata": {},
   "source": [
    "Que 1. How can we store a single quote (‘) as a string in a variable?"
   ]
  },
  {
   "cell_type": "markdown",
   "id": "e88230c0-199f-43a6-b33e-78822537491c",
   "metadata": {},
   "source": [
    "Ans. To store a single quote character (') as a string in a variable, you can use double quotes (\") to define the string literal."
   ]
  },
  {
   "cell_type": "code",
   "execution_count": 1,
   "id": "bfd2f819-aa1e-41c3-8621-031dd95671ff",
   "metadata": {},
   "outputs": [
    {
     "name": "stdout",
     "output_type": "stream",
     "text": [
      " ' Single ' \n"
     ]
    }
   ],
   "source": [
    "s = \" ' Single ' \"\n",
    "print(s)"
   ]
  },
  {
   "cell_type": "markdown",
   "id": "35360d67-cc9c-423b-bd8f-9541d6272cb7",
   "metadata": {},
   "source": [
    "Que 2. Refer the below variable:\n",
    "x = ‘a'\n",
    "Here, is x a character type or string type var1able? Support your answer with an explanation."
   ]
  },
  {
   "cell_type": "markdown",
   "id": "0c2888ca-7e4d-48df-a009-c59e93612212",
   "metadata": {},
   "source": [
    "Ans. The variable x is a string type variable in Python. In Python, strings can be defined using either single quotes (') or double quotes (\"). In this case, the variable x is assigned the value 'a', which is enclosed within single quotes."
   ]
  },
  {
   "cell_type": "markdown",
   "id": "3c2e1eec-f1b2-4515-a4a3-db535da65ad8",
   "metadata": {},
   "source": [
    "Que 3. Apply the following funct1ons on th1s variable: ‘Welcome to Python foundation course'\n"
   ]
  },
  {
   "cell_type": "code",
   "execution_count": 4,
   "id": "acdbf460-1208-41d4-a4ce-e6cc5d0f5835",
   "metadata": {},
   "outputs": [
    {
     "name": "stdout",
     "output_type": "stream",
     "text": [
      "Welcome to Python foundation Course\n"
     ]
    }
   ],
   "source": [
    "s = \"Welcome to Python foundation Course\"\n",
    "print (s)"
   ]
  },
  {
   "cell_type": "code",
   "execution_count": 6,
   "id": "f6ddc1a4-a391-44df-8225-74c14889a3ff",
   "metadata": {},
   "outputs": [
    {
     "data": {
      "text/plain": [
       "4"
      ]
     },
     "execution_count": 6,
     "metadata": {},
     "output_type": "execute_result"
    }
   ],
   "source": [
    "s.find('o')"
   ]
  },
  {
   "cell_type": "code",
   "execution_count": 9,
   "id": "240d0347-7e0e-4cb4-9292-95b8bfc5ac38",
   "metadata": {},
   "outputs": [
    {
     "data": {
      "text/plain": [
       "6"
      ]
     },
     "execution_count": 9,
     "metadata": {},
     "output_type": "execute_result"
    }
   ],
   "source": [
    "s.count('o')"
   ]
  },
  {
   "cell_type": "code",
   "execution_count": 10,
   "id": "e6e0c48a-1fb6-4a35-9b20-343e930d6db8",
   "metadata": {},
   "outputs": [
    {
     "data": {
      "text/plain": [
       "35"
      ]
     },
     "execution_count": 10,
     "metadata": {},
     "output_type": "execute_result"
    }
   ],
   "source": [
    "len(s)"
   ]
  },
  {
   "cell_type": "code",
   "execution_count": 13,
   "id": "f2b57a57-f7bc-4f06-88c3-86f27e146dd2",
   "metadata": {},
   "outputs": [
    {
     "name": "stdout",
     "output_type": "stream",
     "text": [
      "Welcome to Python foundation Course, your name\n"
     ]
    }
   ],
   "source": [
    "s = \"Welcome to Python foundation Course, \"\n",
    "u = \"your name\"\n",
    "concatenate = s + u\n",
    "print(concatenate)"
   ]
  },
  {
   "cell_type": "markdown",
   "id": "b51385f0-c76a-4896-9d2a-3a3c6c0c803d",
   "metadata": {},
   "source": [
    "Que 4. For the variable: word = ‘PanaJi@1226'"
   ]
  },
  {
   "cell_type": "code",
   "execution_count": 17,
   "id": "cf355a4c-d0ce-4d7f-84d8-e8078626daec",
   "metadata": {},
   "outputs": [
    {
     "name": "stdout",
     "output_type": "stream",
     "text": [
      "total number of lower case: 4\n"
     ]
    }
   ],
   "source": [
    "# a) Total number of alphabets in lowercase\n",
    "word = 'PanaJi@12256'\n",
    "lowercase_count = 0\n",
    "for char in word:\n",
    "    if char.islower():\n",
    "        lowercase_count += 1\n",
    "print ('total number of lower case:', lowercase_count)"
   ]
  },
  {
   "cell_type": "code",
   "execution_count": 18,
   "id": "f19db758-d7ad-4331-9736-f3adf801c51a",
   "metadata": {},
   "outputs": [
    {
     "name": "stdout",
     "output_type": "stream",
     "text": [
      "Total number of upper case: 2\n"
     ]
    }
   ],
   "source": [
    "# b) Total number of alphabets in uppercase\n",
    "word = 'PanaJi@12256'\n",
    "uppercase_count = 0\n",
    "for char in word:\n",
    "    if char.isupper():\n",
    "        uppercase_count += 1\n",
    "print (\"Total number of upper case:\", uppercase_count)"
   ]
  },
  {
   "cell_type": "code",
   "execution_count": 20,
   "id": "4e28fa5f-6fc6-40b6-86fe-3652f289c590",
   "metadata": {},
   "outputs": [
    {
     "name": "stdout",
     "output_type": "stream",
     "text": [
      "Total number of Numerical: 5\n"
     ]
    }
   ],
   "source": [
    "# c) Total number of numerical in string\n",
    "word = 'PanaJi12256'\n",
    "Numerical_count = 0\n",
    "for int in word:\n",
    "    if int.isdigit():\n",
    "        Numerical_count += 1\n",
    "print (\"Total number of Numerical:\", Numerical_count)"
   ]
  },
  {
   "cell_type": "markdown",
   "id": "fd7e48f1-c92e-4eda-bc55-8bc941bd1004",
   "metadata": {},
   "source": [
    "Que 5. Write a code to store a numerical value inside a variable then convert it into string."
   ]
  },
  {
   "cell_type": "code",
   "execution_count": 21,
   "id": "5ee77e9e-ded3-4699-ac66-dc7b9f4fbd13",
   "metadata": {},
   "outputs": [],
   "source": [
    "num = 5"
   ]
  },
  {
   "cell_type": "code",
   "execution_count": 22,
   "id": "17b02c47-5093-4c1e-a208-62f3a53ce3fc",
   "metadata": {},
   "outputs": [
    {
     "data": {
      "text/plain": [
       "5"
      ]
     },
     "execution_count": 22,
     "metadata": {},
     "output_type": "execute_result"
    }
   ],
   "source": [
    "num"
   ]
  },
  {
   "cell_type": "code",
   "execution_count": 23,
   "id": "98db3ddd-4821-4421-8a4d-759e9d010fb1",
   "metadata": {},
   "outputs": [
    {
     "data": {
      "text/plain": [
       "int"
      ]
     },
     "execution_count": 23,
     "metadata": {},
     "output_type": "execute_result"
    }
   ],
   "source": [
    "type(num)"
   ]
  },
  {
   "cell_type": "code",
   "execution_count": 24,
   "id": "437fdde4-cc8c-469d-ab65-7a54e54ce134",
   "metadata": {},
   "outputs": [],
   "source": [
    "string = \"num\""
   ]
  },
  {
   "cell_type": "code",
   "execution_count": 25,
   "id": "2120fede-fc5c-4710-97e4-05a9870c1616",
   "metadata": {},
   "outputs": [
    {
     "data": {
      "text/plain": [
       "'num'"
      ]
     },
     "execution_count": 25,
     "metadata": {},
     "output_type": "execute_result"
    }
   ],
   "source": [
    "string"
   ]
  },
  {
   "cell_type": "code",
   "execution_count": 26,
   "id": "3e6e73d2-489d-42fd-a27f-06c1c087cca3",
   "metadata": {},
   "outputs": [
    {
     "data": {
      "text/plain": [
       "str"
      ]
     },
     "execution_count": 26,
     "metadata": {},
     "output_type": "execute_result"
    }
   ],
   "source": [
    "type(string)"
   ]
  },
  {
   "cell_type": "code",
   "execution_count": null,
   "id": "038ad8ed-b3d2-45f9-8946-a2467f537527",
   "metadata": {},
   "outputs": [],
   "source": []
  }
 ],
 "metadata": {
  "kernelspec": {
   "display_name": "Python 3 (ipykernel)",
   "language": "python",
   "name": "python3"
  },
  "language_info": {
   "codemirror_mode": {
    "name": "ipython",
    "version": 3
   },
   "file_extension": ".py",
   "mimetype": "text/x-python",
   "name": "python",
   "nbconvert_exporter": "python",
   "pygments_lexer": "ipython3",
   "version": "3.10.8"
  }
 },
 "nbformat": 4,
 "nbformat_minor": 5
}
