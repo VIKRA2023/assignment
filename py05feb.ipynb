{
 "cells": [
  {
   "cell_type": "markdown",
   "id": "1128bbb2-9045-433f-a7f1-ce550e6630f9",
   "metadata": {},
   "source": [
    "# Q1. Explain Class and Object with respect to Object-Oriented Programming. Give a suitable example. \n",
    "Ans. A class is a user defined blueprint or template that defines the properties and methods common to all objects of a certain kind. A class is like a prototype that specifies what an object will look like and how it will behave. For example a class named Car can have properties like color, model, speed and methods like start, stop, accelerate etc.\n",
    "An object is a single instance of a class that contains data and methods working on that data. A object is a concrete entity that has an identity, state and behaviour. For example an object named myCar can be an instace of the Car class with the color red, model Honda City, speed 60mph,and can invoke the methods defined by the Car class.\n",
    "The four pillars of OOPs:\n",
    "    1.Abstration\n",
    "    2.Encapsulation\n",
    "    3.Inheritance\n",
    "    4.Polymorphism"
   ]
  },
  {
   "cell_type": "markdown",
   "id": "35599e2e-59d7-4caa-9b04-96a6aeef16f8",
   "metadata": {},
   "source": [
    "# Q2. Name the four pillars of OOPs.\n",
    "The four pillars of OOPs: 1.Abstration 2.Encapsulation 3.Inheritance 4.Polymorphism"
   ]
  },
  {
   "cell_type": "markdown",
   "id": "b12b6efe-9e5c-428e-a966-844eed6178e7",
   "metadata": {},
   "source": [
    "# Q3. Explain why the __init__() function is used. Give a suitable example. \n",
    "In Python, the __init__() function is a special method used to initialize an instance of a class. When a new instance of a class is created, the __init__() method is called automatically, and it allows the class to set default attributes and perform any other setup that is required."
   ]
  },
  {
   "cell_type": "code",
   "execution_count": 1,
   "id": "7f8f9a6a-f3c5-4185-bc3a-9272a5a76ec2",
   "metadata": {},
   "outputs": [],
   "source": [
    "# example\n",
    "class Car:\n",
    "    def __init__(self, make, model, year):\n",
    "        self.make = make\n",
    "        self.model = model\n",
    "        self.year = year\n",
    "\n",
    "    def display_car_info(self):\n",
    "        print(f\"This is a {self.make} {self.model} made in {self.year}\")\n"
   ]
  },
  {
   "cell_type": "code",
   "execution_count": 2,
   "id": "c089e7e6-159d-4429-8aa8-e15022c7d4de",
   "metadata": {},
   "outputs": [],
   "source": [
    "my_car = Car(\"Toyota\", \"Corolla\", 2022)\n"
   ]
  },
  {
   "cell_type": "code",
   "execution_count": 4,
   "id": "d04fc989-d0aa-4311-b6bf-8e3ca8fdec28",
   "metadata": {},
   "outputs": [
    {
     "name": "stdout",
     "output_type": "stream",
     "text": [
      "This is a Toyota Corolla made in 2022\n"
     ]
    }
   ],
   "source": [
    "my_car.display_car_info()"
   ]
  },
  {
   "cell_type": "markdown",
   "id": "0fe75d2a-d59a-45cf-8063-d24816850326",
   "metadata": {},
   "source": [
    "# Q4. Why self is used in OOPs?\n",
    "Self is a parameter that refers to the current instance of a class. It is used to access the attributes and methods of the class from within the class."
   ]
  },
  {
   "cell_type": "markdown",
   "id": "72153f77-b8ee-43a7-aa7f-03435f2a84d5",
   "metadata": {},
   "source": [
    "# Q5. What is inheritance? Give an example for each type of inheritance. \n",
    "Inheritance is a fundamental concept in object-oriented programming (OOP) that allows a new class to be based on an existing class. The new class, known as the subclass or derived class, inherits the properties and behaviors of the existing class, known as the superclass or base class. This allows for code reuse and enables the creation of more complex classes by combining the features of multiple classes.\n",
    "\n",
    "There are four types of inheritance in Python:"
   ]
  },
  {
   "cell_type": "code",
   "execution_count": 6,
   "id": "096248e0-4371-41c6-8788-558e69132c21",
   "metadata": {},
   "outputs": [
    {
     "name": "stdout",
     "output_type": "stream",
     "text": [
      "Fido\n",
      "Woof!\n"
     ]
    }
   ],
   "source": [
    "# 1.Single inheritance - where a subclass inherits from a single superclass.\n",
    "class Animal:\n",
    "    def __init__(self, name):\n",
    "        self.name = name\n",
    "    \n",
    "    def speak(self):\n",
    "        pass\n",
    "    \n",
    "class Dog(Animal):\n",
    "    def speak(self):\n",
    "        return \"Woof!\"\n",
    "\n",
    "my_dog = Dog(\"Fido\")\n",
    "print(my_dog.name)  \n",
    "print(my_dog.speak())  \n"
   ]
  },
  {
   "cell_type": "code",
   "execution_count": 5,
   "id": "5e352b76-8998-4173-a342-13a005b5bd16",
   "metadata": {},
   "outputs": [
    {
     "name": "stdout",
     "output_type": "stream",
     "text": [
      "Swimming\n",
      "Flying\n"
     ]
    }
   ],
   "source": [
    "# 2.Multiple inheritance - where a subclass inherits from multiple superclasses.\n",
    "class Swim:\n",
    "    def swim(self):\n",
    "        return \"Swimming\"\n",
    "    \n",
    "class Fly:\n",
    "    def fly(self):\n",
    "        return \"Flying\"\n",
    "    \n",
    "class Duck(Swim, Fly):\n",
    "    pass\n",
    "\n",
    "my_duck = Duck()\n",
    "print(my_duck.swim()) \n",
    "print(my_duck.fly()) \n"
   ]
  },
  {
   "cell_type": "code",
   "execution_count": 8,
   "id": "5a012880-a962-4e64-b4b6-7fca12c53523",
   "metadata": {},
   "outputs": [
    {
     "name": "stdout",
     "output_type": "stream",
     "text": [
      "Fido\n",
      "Feeding\n",
      "Woof!\n"
     ]
    }
   ],
   "source": [
    "# 3.Multi-level inheritance - where a subclass inherits from a superclass, which in turn inherits from another superclass.\n",
    "class Animal:\n",
    "    def __init__(self, name):\n",
    "        self.name = name\n",
    "        \n",
    "class Mammal(Animal):\n",
    "    def feed_young_with_milk(self):\n",
    "        return \"Feeding\"\n",
    "    \n",
    "class Dog(Mammal):\n",
    "    def speak(self):\n",
    "        return \"Woof!\"\n",
    "\n",
    "my_dog = Dog(\"Fido\")\n",
    "print(my_dog.name)  \n",
    "print(my_dog.feed_young_with_milk())  \n",
    "print(my_dog.speak())  \n"
   ]
  },
  {
   "cell_type": "code",
   "execution_count": 9,
   "id": "032b74f6-61e8-4950-88ea-389db40d0932",
   "metadata": {},
   "outputs": [
    {
     "name": "stdout",
     "output_type": "stream",
     "text": [
      "Fido\n",
      "Woof!\n",
      "Whiskers\n",
      "Meow!\n"
     ]
    }
   ],
   "source": [
    "# 4.Hierarchical inheritance - where multiple subclasses inherit from a single superclass.\n",
    "class Animal:\n",
    "    def __init__(self, name):\n",
    "        self.name = name\n",
    "    \n",
    "    def speak(self):\n",
    "        pass\n",
    "    \n",
    "class Dog(Animal):\n",
    "    def speak(self):\n",
    "        return \"Woof!\"\n",
    "    \n",
    "class Cat(Animal):\n",
    "    def speak(self):\n",
    "        return \"Meow!\"\n",
    "\n",
    "my_dog = Dog(\"Fido\")\n",
    "my_cat = Cat(\"Whiskers\")\n",
    "print(my_dog.name)  \n",
    "print(my_dog.speak())  \n",
    "print(my_cat.name)  \n",
    "print(my_cat.speak())  \n"
   ]
  },
  {
   "cell_type": "code",
   "execution_count": null,
   "id": "fd537fdd-15cd-4637-b328-5f1c76577355",
   "metadata": {},
   "outputs": [],
   "source": []
  }
 ],
 "metadata": {
  "kernelspec": {
   "display_name": "Python 3 (ipykernel)",
   "language": "python",
   "name": "python3"
  },
  "language_info": {
   "codemirror_mode": {
    "name": "ipython",
    "version": 3
   },
   "file_extension": ".py",
   "mimetype": "text/x-python",
   "name": "python",
   "nbconvert_exporter": "python",
   "pygments_lexer": "ipython3",
   "version": "3.10.8"
  }
 },
 "nbformat": 4,
 "nbformat_minor": 5
}
