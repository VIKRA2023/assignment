{
 "cells": [
  {
   "cell_type": "code",
   "execution_count": 1,
   "id": "763e72cd-68f2-4184-b76a-4ed7ffd65a43",
   "metadata": {},
   "outputs": [],
   "source": [
    "# 15th March Assignment"
   ]
  },
  {
   "cell_type": "code",
   "execution_count": 2,
   "id": "a9844572-2100-4618-9a61-f7eac2c75bcf",
   "metadata": {},
   "outputs": [],
   "source": [
    "Que1 = \"Explain Artificial Intelligence with an example.\""
   ]
  },
  {
   "cell_type": "code",
   "execution_count": 3,
   "id": "12528568-887e-4625-b75a-049be1e42d76",
   "metadata": {},
   "outputs": [],
   "source": [
    "Ans1 = \"Artificial Intelligence (AI) is a branch of computer science that focuses on creating intelligent machines that can perform tasks that normally require human intelligence, such as perception, reasoning, learning, and decision-making. AI systems can be designed to learn from data and improve over time, allowing them to become increasingly sophisticated in their abilities.Eg - he popular virtual assistant Alexa uses AI to understand and respond to voice commands from users. When a user asks Alexa a question or issues a command, the system processes the audio input and applies natural language processing algorithms to understand the intent behind the words. It then uses machine learning algorithms to identify the appropriate response and provides a spoken answer back to the user.\""
   ]
  },
  {
   "cell_type": "code",
   "execution_count": 4,
   "id": "312a1f8d-09db-4063-97cf-e363fb5a9f67",
   "metadata": {},
   "outputs": [],
   "source": [
    "Que2 = \"Explain Machine Learning with an example.\""
   ]
  },
  {
   "cell_type": "code",
   "execution_count": 5,
   "id": "dc85da38-7c81-4212-bcfb-736e1108b997",
   "metadata": {},
   "outputs": [],
   "source": [
    "Ans2 = \"Machine learning is a subset of artificial intelligence that involves training computer algorithms to learn from data, identify patterns, and make predictions or decisions without being explicitly programmed for each task. Machine learning algorithms are used in a variety of applications, from image and speech recognition to fraud detection and personalized marketing.Eg - image recognition. Machine learning algorithms can be trained to recognize patterns in images, such as specific objects or features, and then use those patterns to identify similar objects in new images. This technology is used in a variety of applications, from autonomous vehicles to facial recognition software.\""
   ]
  },
  {
   "cell_type": "code",
   "execution_count": null,
   "id": "adf769b0-5032-4508-a0b8-cb80b6013f4a",
   "metadata": {},
   "outputs": [],
   "source": [
    "Que3 = \"What is meant by Deep Learning? Explain with an example.\""
   ]
  },
  {
   "cell_type": "code",
   "execution_count": null,
   "id": "3661227a-1ff2-4ca4-a9eb-c0482502a2d5",
   "metadata": {},
   "outputs": [],
   "source": [
    "Ans3 = \"Deep learning is a subset of machine learning that uses artificial neural networks with multiple layers to model and solve complex problems. Deep learning algorithms are inspired by the structure and function of the human brain, and are capable of learning from large amounts of data and making highly accurate predictions or decisions.One example of deep learning in action is image classification. Deep learning algorithms can be trained to recognize and classify images based on their content, such as identifying objects or scenes within the image.\""
   ]
  },
  {
   "cell_type": "code",
   "execution_count": null,
   "id": "70411db1-b14c-4c4d-b3a2-1ba4181dea20",
   "metadata": {
    "slideshow": {
     "slide_type": "notes"
    },
    "tags": []
   },
   "outputs": [],
   "source": [
    "Que4 = \"What is supervised learning? List some example of supervised learning.\""
   ]
  },
  {
   "cell_type": "code",
   "execution_count": null,
   "id": "2f09c4cc-1d58-4946-8df4-b4be1dbac1d0",
   "metadata": {},
   "outputs": [],
   "source": [
    "Ans4 = \"Supervised learning is a type of machine learning where the algorithm learns to make predictions or decisions based on labeled examples. In supervised learning, the algorithm is trained on a dataset where each example is labeled with the correct output or target value. The algorithm learns to map inputs to outputs based on the labeled examples, and can then make predictions or decisions on new, unseen data./nExamples of supervised learning include:/nRegression: In regression, the goal is to predict a continuous output variable based on input features. For example, a supervised learning algorithm could be trained to predict the price of a house based on its size, location, and other features./nClassification: In classification, the goal is to predict a categorical output variable based on input features. For example, a supervised learning algorithm could be trained to classify images of animals into different categories, such as cats, dogs, or birds.\""
   ]
  },
  {
   "cell_type": "code",
   "execution_count": null,
   "id": "e0ea213b-f3ce-4ff2-8bfe-7aebbc0a63f7",
   "metadata": {},
   "outputs": [],
   "source": [
    "Que5 = \"What is unsupervised learning? List some example of unsupervised learning.\""
   ]
  },
  {
   "cell_type": "code",
   "execution_count": null,
   "id": "b04accd7-f255-4ad8-9889-2f9efddb5bf4",
   "metadata": {},
   "outputs": [],
   "source": [
    "Ans5 = \"Unsupervised learning is a type of machine learning where the algorithm learns to identify patterns or structure in data without being explicitly trained on labeled examples. In unsupervised learning, the algorithm is given a dataset and must find patterns or groupings in the data without knowing what the correct output should be./nExamples of unsupervised learning include:/nClustering: In clustering, the goal is to group similar data points together based on their features. For example, a clustering algorithm could be used to group customers into segments based on their purchase behavior./nDimensionality reduction: In dimensionality reduction, the goal is to reduce the number of features or variables in a dataset while preserving the most important information. For example, a dimensionality reduction algorithm could be used to compress high-dimensional data, such as images or audio, into a lower-dimensional representation.\""
   ]
  },
  {
   "cell_type": "code",
   "execution_count": null,
   "id": "103f0b35-6034-4ed8-899d-f174da3d6c19",
   "metadata": {},
   "outputs": [],
   "source": [
    "Que6 = \"What is the difference between Artificial Intelligence , Machine Learning , Deep Learning and Data Science?\""
   ]
  },
  {
   "cell_type": "code",
   "execution_count": null,
   "id": "77b16f15-804f-4ae1-b648-288eeabf005a",
   "metadata": {},
   "outputs": [],
   "source": [
    "Ans6 = \"Artificial intelligence (AI), machine learning (ML), deep learning (DL), and data science are related fields, but they differ in their scope and focus./nArtificial Intelligence (AI) refers to the development of intelligent machines that can perform tasks that typically require human intelligence, such as perception, reasoning, and learning. AI can be achieved using a variety of techniques, including machine learning, natural language processing, and computer vision./nMachine Learning (ML) is a subset of AI that focuses on developing algorithms that can learn patterns and relationships in data without being explicitly programmed. ML algorithms are trained on a dataset with labeled examples and can make predictions or decisions on new, unseen data based on what they learned during training./nDeep Learning (DL) is a subset of machine learning that uses artificial neural networks with multiple layers to model and solve complex problems. DL algorithms are inspired by the structure and function of the human brain and can learn from large amounts of data to make highly accurate predictions or decisions./nData Science is a field that focuses on extracting insights and knowledge from data. It combines elements of statistics, machine learning, and domain expertise to analyze and interpret data, and communicate the results to stakeholders. Data scientists use a variety of tools and techniques to work with data, including data mining, data cleaning, and data visualization.\""
   ]
  },
  {
   "cell_type": "code",
   "execution_count": null,
   "id": "78bdd699-1649-48a6-923c-0b1dc0654e06",
   "metadata": {},
   "outputs": [],
   "source": [
    "Que7 = \"What is the main difference between supervised , unsupervised and semi-supervised learning?\""
   ]
  },
  {
   "cell_type": "code",
   "execution_count": null,
   "id": "8cfb398b-8567-487c-a339-6b773748b077",
   "metadata": {},
   "outputs": [],
   "source": [
    "Ans7 = \"The main difference between supervised, unsupervised, and semi-supervised learning is in the type of data used to train the machine learning algorithm./nSupervised learning uses labeled data, where each example in the training set is paired with the corresponding output or target value. The algorithm learns to map inputs to outputs based on these labeled examples. During testing, the algorithm makes predictions on new, unseen data based on what it learned during training. Supervised learning is useful when the goal is to predict a specific output value based on input features./nUnsupervised learning uses unlabeled data, where the training set does not include any output or target values. The algorithm learns to identify patterns or groupings in the data based on similarities and differences between the input features. Unsupervised learning is useful when the goal is to identify hidden patterns or structure in the data./nSemi-supervised learning is a combination of supervised and unsupervised learning, where the training set includes both labeled and unlabeled examples. The algorithm uses the labeled examples to learn to make predictions, and uses the unlabeled examples to identify patterns or structure in the data. Semi-supervised learning is useful when labeled data is scarce or expensive to obtain.\""
   ]
  },
  {
   "cell_type": "code",
   "execution_count": null,
   "id": "7469dd67-7b6f-4718-a00e-2fade06c1b64",
   "metadata": {},
   "outputs": [],
   "source": [
    "Que8 = \"What is train, test and validation split? Explain the importance of each them.\""
   ]
  },
  {
   "cell_type": "code",
   "execution_count": null,
   "id": "32b824e4-0905-43f5-a1a7-8f2564169365",
   "metadata": {},
   "outputs": [],
   "source": [
    "Ans8 = \"Train-test-validation split is a common technique used in machine learning to evaluate the performance of a model. The data is divided into three sets: the training set, the validation set, and the test set./nThe training set is the largest portion of the data and is used to train the model. The model learns from the training data and adjusts its parameters to minimize the error between its predictions and the true values./nThe validation set is used to tune the hyperparameters of the model. Hyperparameters are parameters that are set before training and affect the behavior of the model. For example, the learning rate in a neural network is a hyperparameter that determines how quickly the model adjusts its weights. The validation set is used to evaluate the performance of the model with different hyperparameters and select the best ones./nThe test set is used to evaluate the final performance of the model. It is a completely independent set of data that the model has never seen before. The test set provides an unbiased estimate of the model's performance on new, unseen data./nThe importance of each set:/nTraining set: The training set is used to train the model and adjust its parameters. The more data the model has to learn from, the better it can generalize to new data./nValidation set: The validation set is used to tune the hyperparameters of the model. Tuning the hyperparameters can improve the performance of the model on the test set./nTest set: The test set is used to evaluate the final performance of the model. It provides an unbiased estimate of how well the model will perform on new, unseen data. Using a separate test set ensures that the model has not overfit to the training or validation data.\"\n",
    "\n"
   ]
  },
  {
   "cell_type": "code",
   "execution_count": null,
   "id": "51a34b7b-d9db-4518-8b06-55da50005510",
   "metadata": {},
   "outputs": [],
   "source": [
    "Que9 = \"How can unsupervised learning be used in anomaly detection?\""
   ]
  },
  {
   "cell_type": "code",
   "execution_count": null,
   "id": "e403846c-b33a-4299-9a93-5909540edef6",
   "metadata": {},
   "outputs": [],
   "source": [
    "Ans9 = \"Unsupervised learning can be used in anomaly detection by identifying patterns or structures in data that deviate from the norm. Anomalies are data points or events that are significantly different from the majority of the data and may indicate a problem or unusual behavior./nOne common unsupervised learning technique used in anomaly detection is clustering. Clustering is the process of grouping similar data points together based on their features. Anomalies can be detected by looking for data points that do not belong to any cluster or belong to a small, isolated cluster.\""
   ]
  },
  {
   "cell_type": "code",
   "execution_count": null,
   "id": "08d9e083-f10e-4a88-95df-07f6fa6ff58c",
   "metadata": {},
   "outputs": [],
   "source": [
    "Que10 = \"List down some commonly used supervised learning algorithms and unsupervised learning algorithms.\""
   ]
  },
  {
   "cell_type": "code",
   "execution_count": null,
   "id": "b8eb0839-4715-4c5e-94b0-1b95ace8ec06",
   "metadata": {},
   "outputs": [],
   "source": [
    "Ans10 = \"Supervised Learning Algorithms: Linear Regression , Logistic Regression , Support Vector Machines (SVM) , Random Forest , Decision Trees/nUnsupervised Learning Algorithms: K-Means Clustering , Hierarchical Clustering , Principal Component Analysis (PCA) , t-SNE (t-Distributed Stochastic Neighbor Embedding) , Anomaly Detection\""
   ]
  },
  {
   "cell_type": "code",
   "execution_count": null,
   "id": "18c70748-ec4a-4d2f-8efd-73215542fad4",
   "metadata": {},
   "outputs": [],
   "source": []
  }
 ],
 "metadata": {
  "kernelspec": {
   "display_name": "Python 3 (ipykernel)",
   "language": "python",
   "name": "python3"
  },
  "language_info": {
   "codemirror_mode": {
    "name": "ipython",
    "version": 3
   },
   "file_extension": ".py",
   "mimetype": "text/x-python",
   "name": "python",
   "nbconvert_exporter": "python",
   "pygments_lexer": "ipython3",
   "version": "3.10.8"
  }
 },
 "nbformat": 4,
 "nbformat_minor": 5
}
