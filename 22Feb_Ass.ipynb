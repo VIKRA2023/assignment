{
 "cells": [
  {
   "cell_type": "code",
   "execution_count": 1,
   "id": "6ad72fcf-3718-4da6-ad88-a5ad94c0d87f",
   "metadata": {},
   "outputs": [],
   "source": [
    "#Q1. Create a Pandas Series that contains the following data: 4, 8, 15, 16, 23, and 42. Then, print the series."
   ]
  },
  {
   "cell_type": "code",
   "execution_count": 2,
   "id": "8fabfdbe-a266-486a-801c-e41614cc6787",
   "metadata": {},
   "outputs": [
    {
     "name": "stdout",
     "output_type": "stream",
     "text": [
      "0     4\n",
      "1     8\n",
      "2    15\n",
      "3    16\n",
      "4    23\n",
      "5    42\n",
      "dtype: int64\n"
     ]
    }
   ],
   "source": [
    "import pandas as pd\n",
    "\n",
    "# Creating a Pandas Series\n",
    "data = [4, 8, 15, 16, 23, 42]\n",
    "my_series = pd.Series(data)\n",
    "\n",
    "# Printing the Series\n",
    "print(my_series)"
   ]
  },
  {
   "cell_type": "code",
   "execution_count": 3,
   "id": "023d65c6-d28b-4c0d-b4d4-5341103fb570",
   "metadata": {},
   "outputs": [],
   "source": [
    "# Q2. Create a variable of list type containing 10 elements in it, and apply pandas.Series function on the variable print it."
   ]
  },
  {
   "cell_type": "code",
   "execution_count": 4,
   "id": "881d58a5-9ebf-4040-a12f-438d0d65b255",
   "metadata": {},
   "outputs": [
    {
     "name": "stdout",
     "output_type": "stream",
     "text": [
      "0     1\n",
      "1     2\n",
      "2     3\n",
      "3     4\n",
      "4     5\n",
      "5     6\n",
      "6     7\n",
      "7     8\n",
      "8     9\n",
      "9    10\n",
      "dtype: int64\n"
     ]
    }
   ],
   "source": [
    "import pandas as pd\n",
    "\n",
    "# Creating a list with 10 elements\n",
    "my_list = [1, 2, 3, 4, 5, 6, 7, 8, 9, 10]\n",
    "\n",
    "# Converting the list to a Pandas Series\n",
    "my_series_from_list = pd.Series(my_list)\n",
    "\n",
    "# Printing the Series\n",
    "print(my_series_from_list)"
   ]
  },
  {
   "cell_type": "code",
   "execution_count": 5,
   "id": "57e61b59-5d7b-4800-af45-132a9a9bd2ef",
   "metadata": {},
   "outputs": [],
   "source": [
    "# Q3. Create a Pandas DataFrame"
   ]
  },
  {
   "cell_type": "code",
   "execution_count": 6,
   "id": "50ba9314-e2b1-4e2f-97f7-9f7a63605a36",
   "metadata": {},
   "outputs": [
    {
     "name": "stdout",
     "output_type": "stream",
     "text": [
      "     Name  Age  Gender\n",
      "0   Alice   25  Female\n",
      "1     Bob   30    Male\n",
      "2  Claire   27  Female\n"
     ]
    }
   ],
   "source": [
    "import pandas as pd\n",
    "\n",
    "# Creating a dictionary with data\n",
    "data = {\n",
    "    'Name': ['Alice', 'Bob', 'Claire'],\n",
    "    'Age': [25, 30, 27],\n",
    "    'Gender': ['Female', 'Male', 'Female']\n",
    "}\n",
    "\n",
    "# Creating a Pandas DataFrame\n",
    "my_dataframe = pd.DataFrame(data)\n",
    "\n",
    "# Printing the DataFrame\n",
    "print(my_dataframe)\n"
   ]
  },
  {
   "cell_type": "code",
   "execution_count": 7,
   "id": "cc306fd7-b139-47ad-95a7-e7da851db84d",
   "metadata": {},
   "outputs": [],
   "source": [
    "# Q4. What is ‘DataFrame’ in pandas and how is it different from pandas.series? Explain with an example."
   ]
  },
  {
   "cell_type": "code",
   "execution_count": 8,
   "id": "595a352d-b7f3-4cb8-b65a-20cfc56e5b12",
   "metadata": {},
   "outputs": [],
   "source": [
    "# In Pandas, a DataFrame is a two-dimensional, tabular data structure with labeled axes (rows and columns). It is one of the primary data structures used in Pandas and is similar to a spreadsheet or SQL table. DataFrames can hold heterogeneous types of data, and they provide powerful and flexible methods for data manipulation and analysis.\n",
    "# On the other hand, a Pandas Series is a one-dimensional labeled array. It is similar to a column in a DataFrame or a single column of data in a spreadsheet. A DataFrame is essentially a collection of Series objects, where each Series represents a column in the DataFrame.\n",
    "# Let's illustrate the difference with an example:"
   ]
  },
  {
   "cell_type": "code",
   "execution_count": 9,
   "id": "aacc4d94-0c1e-407b-a617-f0c718eaf288",
   "metadata": {},
   "outputs": [
    {
     "name": "stdout",
     "output_type": "stream",
     "text": [
      "Pandas Series:\n",
      "0    10\n",
      "1    20\n",
      "2    30\n",
      "3    40\n",
      "Name: Numbers, dtype: int64\n",
      "\n",
      "\n",
      "Pandas DataFrame:\n",
      "      Name  Age           City\n",
      "0    Alice   25       New York\n",
      "1      Bob   30  San Francisco\n",
      "2  Charlie   35    Los Angeles\n",
      "3    David   28        Chicago\n"
     ]
    }
   ],
   "source": [
    "import pandas as pd\n",
    "\n",
    "# Creating a Pandas Series\n",
    "my_series = pd.Series([10, 20, 30, 40], name='Numbers')\n",
    "\n",
    "# Creating a Pandas DataFrame\n",
    "data = {\n",
    "    'Name': ['Alice', 'Bob', 'Charlie', 'David'],\n",
    "    'Age': [25, 30, 35, 28],\n",
    "    'City': ['New York', 'San Francisco', 'Los Angeles', 'Chicago']\n",
    "}\n",
    "\n",
    "my_dataframe = pd.DataFrame(data)\n",
    "\n",
    "# Printing the Series\n",
    "print(\"Pandas Series:\")\n",
    "print(my_series)\n",
    "print(\"\\n\")\n",
    "\n",
    "# Printing the DataFrame\n",
    "print(\"Pandas DataFrame:\")\n",
    "print(my_dataframe)"
   ]
  },
  {
   "cell_type": "code",
   "execution_count": 10,
   "id": "06b70c01-2f70-4a16-9e72-c7beee172d3a",
   "metadata": {},
   "outputs": [],
   "source": [
    "# In the example, my_series is a one-dimensional labeled array with an index (0, 1, 2, 3) and values (10, 20, 30, 40). It has a single column labeled 'Numbers'.\n",
    "\n",
    "# my_dataframe, on the other hand, is a two-dimensional tabular structure with three columns ('Name', 'Age', 'City') and an index (0, 1, 2, 3). It contains heterogeneous data and allows you to represent more complex relationships and structures than a single Series."
   ]
  },
  {
   "cell_type": "markdown",
   "id": "92d3862c-ee12-42a2-a9dd-cccc33da8642",
   "metadata": {},
   "source": [
    "Pandas provides a variety of functions to manipulate and analyze data in a DataFrame. Here are some common functions:\n",
    "\n",
    "head() and tail(): These functions allow you to view the first or last n rows of a DataFrame.\n",
    "\n",
    "# Display the first 3 rows of the DataFrame\n",
    "df.head(3)\n",
    "info(): Provides a concise summary of the DataFrame, including the data types and missing values.\n",
    "\n",
    "python\n",
    "Copy code\n",
    "# Display information about the DataFrame\n",
    "df.info()\n",
    "describe(): Generates descriptive statistics of the numerical columns, such as mean, min, max, etc.\n",
    "\n",
    "python\n",
    "Copy code\n",
    "# Display summary statistics of the DataFrame\n",
    "df.describe()\n",
    "value_counts(): Counts the occurrences of unique values in a column.\n",
    "\n",
    "# Count the occurrences of each value in the 'City' column\n",
    "df['City'].value_counts()\n",
    "sort_values(): Sorts the DataFrame by specified columns.\n",
    "\n",
    "# Sort the DataFrame by the 'Age' column in descending order\n",
    "df.sort_values(by='Age', ascending=False)\n",
    "groupby(): Groups the DataFrame by one or more columns, allowing for aggregation operations.\n",
    "\n",
    "# Group the DataFrame by the 'City' column and calculate the mean age in each city\n",
    "df.groupby('City')['Age'].mean()\n",
    "drop(): Removes specified rows or columns from the DataFrame.\n",
    "\n",
    "# Drop the 'City' column from the DataFrame\n",
    "df.drop(columns='City')\n",
    "fillna(): Fills missing values in the DataFrame with a specified value or a calculated value.\n",
    "\n",
    "# Fill missing values in the 'Age' column with the mean age\n",
    "df['Age'].fillna(df['Age'].mean(), inplace=True)\n",
    "apply(): Applies a function along a specific axis of the DataFrame.\n",
    "\n",
    "# Square each element in the 'Age' column\n",
    "df['Age'] = df['Age'].apply(lambda x: x**2)"
   ]
  },
  {
   "cell_type": "code",
   "execution_count": 11,
   "id": "cd834465-a921-4f3a-99bf-37f3ca179d81",
   "metadata": {},
   "outputs": [],
   "source": [
    "# Q6. Which of the following is mutable in nature Series, DataFrame, Panel?"
   ]
  },
  {
   "cell_type": "markdown",
   "id": "ddb6930a-3a15-4a74-a6b4-595343e2ed32",
   "metadata": {},
   "source": [
    "In Pandas, Series and DataFrame are mutable, while Panel is considered immutable.\n",
    "\n",
    "1. **Series:** A Pandas Series is mutable. You can modify its values, index, and other properties after it has been created.\n",
    "\n",
    "2. **DataFrame:** Similarly, a Pandas DataFrame is mutable. You can add or remove columns, modify data, and perform various manipulations on the DataFrame.\n",
    "\n",
    "3. **Panel:** The Panel data structure used to be part of Pandas for handling three-dimensional data. However, it has been deprecated, and its functionality has been incorporated into other data structures like MultiIndex DataFrames. Panels are considered less essential in recent versions of Pandas, and you may not encounter them frequently. If you're dealing with three-dimensional data, you would typically use a MultiIndex DataFrame.\n",
    "\n",
    "In summary, Series and DataFrame are mutable, but Panel has been deprecated, and its functionalities are now handled by other data structures like MultiIndex DataFrames."
   ]
  },
  {
   "cell_type": "code",
   "execution_count": 12,
   "id": "a969b706-c613-4ca2-963e-e3bf2c101e27",
   "metadata": {},
   "outputs": [],
   "source": [
    "# Q7. Create a DataFrame using multiple Series. Explain with an example."
   ]
  },
  {
   "cell_type": "code",
   "execution_count": 13,
   "id": "4c84132d-2c5a-4424-92f5-215d8c46a4b3",
   "metadata": {},
   "outputs": [
    {
     "name": "stdout",
     "output_type": "stream",
     "text": [
      "      Name  Age           City\n",
      "0    Alice   25       New York\n",
      "1      Bob   30  San Francisco\n",
      "2  Charlie   35    Los Angeles\n",
      "3    David   28        Chicago\n"
     ]
    }
   ],
   "source": [
    "import pandas as pd\n",
    "\n",
    "# Creating Pandas Series\n",
    "names = pd.Series(['Alice', 'Bob', 'Charlie', 'David'], name='Name')\n",
    "ages = pd.Series([25, 30, 35, 28], name='Age')\n",
    "cities = pd.Series(['New York', 'San Francisco', 'Los Angeles', 'Chicago'], name='City')\n",
    "\n",
    "# Combining Series into a DataFrame\n",
    "my_dataframe = pd.DataFrame({'Name': names, 'Age': ages, 'City': cities})\n",
    "\n",
    "# Printing the DataFrame\n",
    "print(my_dataframe)"
   ]
  },
  {
   "cell_type": "code",
   "execution_count": null,
   "id": "75ab6573-2cb1-4e3c-9967-281984580f71",
   "metadata": {},
   "outputs": [],
   "source": []
  }
 ],
 "metadata": {
  "kernelspec": {
   "display_name": "Python 3 (ipykernel)",
   "language": "python",
   "name": "python3"
  },
  "language_info": {
   "codemirror_mode": {
    "name": "ipython",
    "version": 3
   },
   "file_extension": ".py",
   "mimetype": "text/x-python",
   "name": "python",
   "nbconvert_exporter": "python",
   "pygments_lexer": "ipython3",
   "version": "3.10.8"
  }
 },
 "nbformat": 4,
 "nbformat_minor": 5
}
