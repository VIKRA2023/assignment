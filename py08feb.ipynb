{
 "cells": [
  {
   "cell_type": "markdown",
   "id": "542a9b4d-5a59-4ce8-8134-dc4858e60c44",
   "metadata": {},
   "source": [
    "What is Abstraction in OOps? Explain with an example.\n",
    "\n",
    "Abstraction is one of the four fundamental concepts of object-oriented programming (OOPs) that enables the creation of complex systems by breaking them down into smaller, more manageable pieces. Abstraction is the process of identifying essential features of an object or system and ignoring the non-essential ones.\n",
    "\n",
    "In OOPs, abstraction is implemented through abstract classes and interfaces. Abstract classes are classes that cannot be instantiated on their own but serve as blueprints for other classes. They define abstract methods that must be implemented by any subclass that inherits from them. Interfaces, on the other hand, are similar to abstract classes but only define method signatures that must be implemented by any class that implements the interface."
   ]
  },
  {
   "cell_type": "code",
   "execution_count": 17,
   "id": "55d1c827-4e89-4a1c-b93f-69b09b2e7b14",
   "metadata": {},
   "outputs": [
    {
     "name": "stdout",
     "output_type": "stream",
     "text": [
      "Starting car...\n",
      "Starting bike...\n"
     ]
    }
   ],
   "source": [
    "from abc import ABC, abstractmethod\n",
    "\n",
    "class Vehicle(ABC):\n",
    "    @abstractmethod\n",
    "    def start(self):\n",
    "        pass\n",
    "\n",
    "    @abstractmethod\n",
    "    def stop(self):\n",
    "        pass\n",
    "\n",
    "class Car(Vehicle):\n",
    "    def start(self):\n",
    "        print(\"Starting car...\")\n",
    "\n",
    "    def stop(self):\n",
    "        print(\"Stopping car...\")\n",
    "\n",
    "class Bike(Vehicle):\n",
    "    def start(self):\n",
    "        print(\"Starting bike...\")\n",
    "\n",
    "    def stop(self):\n",
    "        print(\"Stopping bike...\")\n",
    "\n",
    "t = Car()\n",
    "t.start()\n",
    "\n",
    "v = Bike()\n",
    "v.start()"
   ]
  },
  {
   "cell_type": "markdown",
   "id": "3be4f003-9559-4666-b397-26e4065a810b",
   "metadata": {},
   "source": [
    "# Q2. Differentiate between Abstraction and Encapsulation. Explain with an example.\n",
    "\n",
    "Abstraction and Encapsulation are two of the four fundamental concepts of object-oriented programming (OOPs), and while they are related, they are different concepts.\n",
    "\n",
    "Abstraction refers to the process of identifying essential features of an object or system and ignoring the non-essential ones. Abstraction is used to manage complexity by breaking down a system into smaller, more manageable pieces. In OOPs, abstraction is achieved through abstract classes and interfaces.\n",
    "\n",
    "Encapsulation, on the other hand, refers to the practice of hiding the internal details of an object or system from the outside world. Encapsulation is used to ensure that the internal state of an object is only accessible through a well-defined interface. In OOPs, encapsulation is achieved through the use of classes, which allow us to group related data and behavior together in a single unit."
   ]
  },
  {
   "cell_type": "code",
   "execution_count": 1,
   "id": "04eb5428-ec32-4d64-8e1b-fee096062cd5",
   "metadata": {},
   "outputs": [
    {
     "name": "stdout",
     "output_type": "stream",
     "text": [
      "Starting car...\n",
      "Stopping car...\n",
      "red\n"
     ]
    }
   ],
   "source": [
    "from abc import ABC, abstractmethod\n",
    "\n",
    "class Vehicle(ABC):\n",
    "    def __init__(self, color):\n",
    "        self.color = color\n",
    "\n",
    "    @abstractmethod\n",
    "    def start(self):\n",
    "        pass\n",
    "\n",
    "    @abstractmethod\n",
    "    def stop(self):\n",
    "        pass\n",
    "\n",
    "class Car(Vehicle):\n",
    "    def start(self):\n",
    "        print(\"Starting car...\")\n",
    "\n",
    "    def stop(self):\n",
    "        print(\"Stopping car...\")\n",
    "\n",
    "class Bike(Vehicle):\n",
    "    def start(self):\n",
    "        print(\"Starting bike...\")\n",
    "\n",
    "    def stop(self):\n",
    "        print(\"Stopping bike...\")\n",
    "\n",
    "class Driver:\n",
    "    def __init__(self, name, vehicle):\n",
    "        self.name = name\n",
    "        self.vehicle = vehicle\n",
    "\n",
    "    def start_vehicle(self):\n",
    "        self.vehicle.start()\n",
    "\n",
    "    def stop_vehicle(self):\n",
    "        self.vehicle.stop()\n",
    "\n",
    "car = Car(\"red\")\n",
    "driver = Driver(\"Alice\", car)\n",
    "driver.start_vehicle() \n",
    "driver.stop_vehicle()  \n",
    "print(car.color)  "
   ]
  },
  {
   "cell_type": "markdown",
   "id": "c6696d17-5284-498c-a94b-91896f563baa",
   "metadata": {},
   "source": [
    "# Q3. What is abc module in python? Why is it used? \n",
    "The abc (abstract base classes) module in Python provides a way to define abstract classes. An abstract class is a class that cannot be instantiated and is only meant to be subclassed. Abstract classes are useful for creating a hierarchy of related classes that share some common behavior or interface.\n",
    "\n",
    "The abc module provides the ABC class, which is used as a base class for creating abstract classes. An abstract class can define abstract methods, which are methods that do not have an implementation. Subclasses of the abstract class are required to provide an implementation for these abstract methods.\n",
    "\n",
    "The abc module is used for the following purposes:\n",
    "\n",
    "To define a set of methods that a subclass must implement in order to be considered a valid implementation of the abstract class.\n",
    "To provide a common interface for a set of related classes.\n",
    "To ensure that the code that uses the abstract class and its subclasses is type-safe.\n",
    "\n"
   ]
  },
  {
   "cell_type": "code",
   "execution_count": 5,
   "id": "c49368a1-e67c-48d1-addb-e8ac24d25797",
   "metadata": {},
   "outputs": [
    {
     "name": "stdout",
     "output_type": "stream",
     "text": [
      "Woof!\n",
      "Meow!\n"
     ]
    }
   ],
   "source": [
    "from abc import ABC, abstractmethod\n",
    "\n",
    "class Animal(ABC):\n",
    "    @abstractmethod\n",
    "    def make_sound(self):\n",
    "        pass\n",
    "\n",
    "class Dog(Animal):\n",
    "    def make_sound(self):\n",
    "        print(\"Woof!\")\n",
    "\n",
    "class Cat(Animal):\n",
    "    def make_sound(self):\n",
    "        print(\"Meow!\")\n",
    "\n",
    "animals = [Dog(), Cat()]\n",
    "\n",
    "for animal in animals:\n",
    "    animal.make_sound()\n",
    "    \n"
   ]
  },
  {
   "cell_type": "markdown",
   "id": "397b8eb8-52c5-4346-a2e2-b7f677a36376",
   "metadata": {},
   "source": [
    "# Q4. How can we achieve data abstraction?\n",
    "Data abstraction is achieved in object-oriented programming through the use of abstract classes and interfaces. An abstract class is a class that cannot be instantiated and is only meant to be subclassed. It defines a set of abstract methods that subclasses are required to implement. Interfaces are similar to abstract classes, but they only define method signatures and do not provide any implementation.\n",
    "\n",
    "By defining abstract classes and interfaces, we can create a hierarchy of related classes that share some common behavior or interface, while hiding the implementation details from the outside world. This is achieved by making the abstract methods or method signatures public and the implementation details private. The client code that uses these classes only needs to know about the public methods and does not need to know how the methods are implemented."
   ]
  },
  {
   "cell_type": "code",
   "execution_count": 6,
   "id": "117f6d3e-55f3-4c99-a3b5-cebd20b04f71",
   "metadata": {},
   "outputs": [
    {
     "name": "stdout",
     "output_type": "stream",
     "text": [
      "Area of shape is: 50\n",
      "Area of shape is: 153.86\n"
     ]
    }
   ],
   "source": [
    "from abc import ABC, abstractmethod\n",
    "\n",
    "class Shape(ABC):\n",
    "    @abstractmethod\n",
    "    def area(self):\n",
    "        pass\n",
    "\n",
    "class Rectangle(Shape):\n",
    "    def __init__(self, width, height):\n",
    "        self.width = width\n",
    "        self.height = height\n",
    "    \n",
    "    def area(self):\n",
    "        return self.width * self.height\n",
    "\n",
    "class Circle(Shape):\n",
    "    def __init__(self, radius):\n",
    "        self.radius = radius\n",
    "    \n",
    "    def area(self):\n",
    "        return 3.14 * self.radius * self.radius\n",
    "\n",
    "shapes = [Rectangle(5, 10), Circle(7)]\n",
    "\n",
    "for shape in shapes:\n",
    "    print(\"Area of shape is:\", shape.area())\n"
   ]
  },
  {
   "cell_type": "markdown",
   "id": "18d552ca-3c8a-44e7-903e-d6e13cef57b2",
   "metadata": {},
   "source": [
    "# Q5. Can we create an instance of an abstract class? Explain your answer. \n",
    "No, we cannot create an instance of an abstract class in Python. An abstract class is a class that contains one or more abstract methods, which are declared but not implemented in the abstract class. The purpose of an abstract class is to provide a common interface for its subclasses, which are required to implement the abstract methods.\n",
    "\n",
    "Since an abstract class contains one or more abstract methods, it cannot be instantiated directly. Instead, we need to create a concrete subclass of the abstract class that provides an implementation for all the abstract methods. Only then we can create an instance of the concrete subclass.\n"
   ]
  },
  {
   "cell_type": "code",
   "execution_count": 8,
   "id": "b8fd3244-157a-4755-9f09-10714cfba5b4",
   "metadata": {},
   "outputs": [
    {
     "name": "stdout",
     "output_type": "stream",
     "text": [
      "Area of rectangle is: 50\n"
     ]
    }
   ],
   "source": [
    "from abc import ABC, abstractmethod\n",
    "\n",
    "class Shape(ABC):\n",
    "    @abstractmethod\n",
    "    def area(self):\n",
    "        pass\n",
    "\n",
    "class Rectangle(Shape):\n",
    "    def __init__(self, width, height):\n",
    "        self.width = width\n",
    "        self.height = height\n",
    "    \n",
    "    def area(self):\n",
    "        return self.width * self.height\n",
    "\n",
    "r = Rectangle(5, 10)\n",
    "print(\"Area of rectangle is:\", r.area())\n"
   ]
  },
  {
   "cell_type": "code",
   "execution_count": null,
   "id": "76818399-4419-4564-9dcf-d703e1f821d7",
   "metadata": {},
   "outputs": [],
   "source": []
  }
 ],
 "metadata": {
  "kernelspec": {
   "display_name": "Python 3 (ipykernel)",
   "language": "python",
   "name": "python3"
  },
  "language_info": {
   "codemirror_mode": {
    "name": "ipython",
    "version": 3
   },
   "file_extension": ".py",
   "mimetype": "text/x-python",
   "name": "python",
   "nbconvert_exporter": "python",
   "pygments_lexer": "ipython3",
   "version": "3.10.8"
  }
 },
 "nbformat": 4,
 "nbformat_minor": 5
}
