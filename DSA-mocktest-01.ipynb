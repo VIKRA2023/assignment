{
 "cells": [
  {
   "cell_type": "code",
   "execution_count": 1,
   "id": "a679379e-9f90-42ba-b596-9b836d276c21",
   "metadata": {},
   "outputs": [],
   "source": [
    "# Given an integer array nums, move all 0's to the end of it while maintaining the relative order of the non-zero elements.\n",
    "\n",
    "# Note that you must do this in-place without making a copy of the array.\n",
    "\n",
    "# Example 1:\n",
    "# Input: nums = [0,1,0,3,12]\n",
    "# Output: [1,3,12,0,0]"
   ]
  },
  {
   "cell_type": "code",
   "execution_count": 3,
   "id": "4c450e50-57e9-4d4e-be76-2e44241251e5",
   "metadata": {},
   "outputs": [
    {
     "name": "stdout",
     "output_type": "stream",
     "text": [
      "[1, 3, 12, 0, 0]\n"
     ]
    }
   ],
   "source": [
    "def moveZeroes(nums):\n",
    "    nonZeroIndex = 0\n",
    "\n",
    "    for currentIndex in range(len(nums)):\n",
    "        if nums[currentIndex] != 0:\n",
    "            nums[nonZeroIndex] = nums[currentIndex]\n",
    "            nonZeroIndex += 1\n",
    "\n",
    "    while nonZeroIndex < len(nums):\n",
    "        nums[nonZeroIndex] = 0\n",
    "        nonZeroIndex += 1\n",
    "    \n",
    "nums = [0, 1, 0, 3, 12]\n",
    "moveZeroes(nums)\n",
    "print(nums)\n",
    "\n"
   ]
  },
  {
   "cell_type": "code",
   "execution_count": null,
   "id": "d6914648-abd7-4bc2-a372-13a372083296",
   "metadata": {},
   "outputs": [],
   "source": []
  },
  {
   "cell_type": "code",
   "execution_count": 4,
   "id": "3c2f7304-19ec-462a-bebf-2ca4f7d1e175",
   "metadata": {},
   "outputs": [
    {
     "name": "stdout",
     "output_type": "stream",
     "text": [
      "[0]\n"
     ]
    }
   ],
   "source": [
    "nums = [0]\n",
    "moveZeroes(nums)\n",
    "print(nums)\n"
   ]
  },
  {
   "cell_type": "code",
   "execution_count": null,
   "id": "8c86562c-72a0-4bcd-bbd2-0c7db21b927e",
   "metadata": {},
   "outputs": [],
   "source": []
  },
  {
   "cell_type": "code",
   "execution_count": null,
   "id": "742e7111-646f-4297-97bf-f1ed3b46d373",
   "metadata": {},
   "outputs": [],
   "source": []
  }
 ],
 "metadata": {
  "kernelspec": {
   "display_name": "Python 3 (ipykernel)",
   "language": "python",
   "name": "python3"
  },
  "language_info": {
   "codemirror_mode": {
    "name": "ipython",
    "version": 3
   },
   "file_extension": ".py",
   "mimetype": "text/x-python",
   "name": "python",
   "nbconvert_exporter": "python",
   "pygments_lexer": "ipython3",
   "version": "3.10.8"
  }
 },
 "nbformat": 4,
 "nbformat_minor": 5
}
