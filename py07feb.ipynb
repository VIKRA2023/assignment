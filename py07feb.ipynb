{
 "cells": [
  {
   "cell_type": "code",
   "execution_count": 1,
   "id": "1e26eb1f-470f-4d99-ae26-bb52a95df87b",
   "metadata": {},
   "outputs": [
    {
     "data": {
      "text/plain": [
       "'Q1. You are writing code for a company. The requirement of the company is that you create a python\\nfunction that will check whether the password entered by the user is correct or not. The function should\\ntake the password as input and return the string “Valid Password” if the entered password follows the\\nbelow-given password guidelines else it should return “Invalid Password”.'"
      ]
     },
     "execution_count": 1,
     "metadata": {},
     "output_type": "execute_result"
    }
   ],
   "source": [
    "\"\"\"Q1. You are writing code for a company. The requirement of the company is that you create a python\n",
    "function that will check whether the password entered by the user is correct or not. The function should\n",
    "take the password as input and return the string “Valid Password” if the entered password follows the\n",
    "below-given password guidelines else it should return “Invalid Password”.\"\"\""
   ]
  },
  {
   "cell_type": "code",
   "execution_count": 1,
   "id": "51945c21-585b-4534-b216-6211b1e452de",
   "metadata": {},
   "outputs": [
    {
     "name": "stdin",
     "output_type": "stream",
     "text": [
      "Enter a password:  vvvhghfutdtdydkm\n"
     ]
    },
    {
     "name": "stdout",
     "output_type": "stream",
     "text": [
      "Invalid Password\n"
     ]
    }
   ],
   "source": [
    "def validate_password(password):\n",
    "    special_symbols = [\"$\", \"@\", \"#\", \"%\"]\n",
    "    has_two_uppercase = False\n",
    "    has_two_lowercase = False\n",
    "    has_one_number = False\n",
    "    has_three_special = False\n",
    "    \n",
    "    uppercase_count = 0\n",
    "    lowercase_count = 0\n",
    "    number_count = 0\n",
    "    special_count = 0\n",
    "    \n",
    "    if len(password) != 10:\n",
    "        return \"Invalid Password\"\n",
    "    \n",
    "    for char in password:\n",
    "        if char.isupper():\n",
    "            uppercase_count += 1\n",
    "        elif char.islower():\n",
    "            lowercase_count += 1\n",
    "        elif char.isdigit():\n",
    "            number_count += 1\n",
    "        elif char in special_symbols:\n",
    "            special_count += 1\n",
    "        else:\n",
    "            return \"Invalid Password\"\n",
    "        \n",
    "    if uppercase_count >= 2:\n",
    "        has_two_uppercase = True\n",
    "    if lowercase_count >= 2:\n",
    "        has_two_lowercase = True\n",
    "    if number_count >= 1:\n",
    "        has_one_number = True\n",
    "    if special_count >= 3:\n",
    "        has_three_special = True\n",
    "    \n",
    "    if has_two_uppercase and has_two_lowercase and has_one_number and has_three_special:\n",
    "        return \"Valid Password\"\n",
    "    else:\n",
    "        return \"Invalid Password\"\n",
    "    \n",
    "password = input(\"Enter a password: \")\n",
    "            \n",
    "result = validate_password(password)\n",
    "            \n",
    "print(result)\n"
   ]
  },
  {
   "cell_type": "code",
   "execution_count": 1,
   "id": "42aaf891-1b07-4dd4-85a4-d3b61c799fa1",
   "metadata": {},
   "outputs": [],
   "source": [
    "# Q2. Solve the below-given questions using at least one of the following:"
   ]
  },
  {
   "cell_type": "code",
   "execution_count": 2,
   "id": "2c5004a7-cbe2-4142-a9dc-971618c18cdd",
   "metadata": {},
   "outputs": [
    {
     "name": "stdout",
     "output_type": "stream",
     "text": [
      "True\n",
      "True\n",
      "False\n"
     ]
    }
   ],
   "source": [
    "# Check if the string starts with a particular letter; using lambda function\n",
    "check_startswith = lambda string, letter: string.startswith(letter)\n",
    "\n",
    "string1 = \"hello world\"\n",
    "string2 = \"goodbye\"\n",
    "print(check_startswith(string1, \"h\"))  # True\n",
    "print(check_startswith(string2, \"g\"))  # True\n",
    "print(check_startswith(string2, \"o\"))  # False\n"
   ]
  },
  {
   "cell_type": "code",
   "execution_count": 4,
   "id": "1ae47bf5-ceb4-41e7-ba19-1f716bd59e1e",
   "metadata": {},
   "outputs": [
    {
     "name": "stdout",
     "output_type": "stream",
     "text": [
      "['123', '456', '789']\n"
     ]
    }
   ],
   "source": [
    "# Check if the string is numeric; using filter function\n",
    "string_list = [\"123\", \"hello\", \"456\", \"world\", \"789\"]\n",
    "\n",
    "is_numeric = lambda string: string.isnumeric()\n",
    "\n",
    "numeric_strings = list(filter(is_numeric, string_list))\n",
    "\n",
    "print(numeric_strings)\n"
   ]
  },
  {
   "cell_type": "code",
   "execution_count": 5,
   "id": "493a1021-c21a-411b-89da-d70eb850b64d",
   "metadata": {},
   "outputs": [
    {
     "name": "stdout",
     "output_type": "stream",
     "text": [
      "[('orange', 80), ('mango', 99), ('grapes', 1000)]\n"
     ]
    }
   ],
   "source": [
    "# Sort a list of tuples having fruit names and their quantity. [(\"mango\",99),(\"orange\",80), (\"grapes\", 1000)\n",
    "fruits = [(\"mango\", 99), (\"orange\", 80), (\"grapes\", 1000)]\n",
    "fruits_sorted = sorted(fruits, key=lambda x: x[1])\n",
    "print(fruits_sorted)"
   ]
  },
  {
   "cell_type": "code",
   "execution_count": 6,
   "id": "a0588e99-e001-4bc5-bfdd-719ea2403e68",
   "metadata": {},
   "outputs": [
    {
     "name": "stdout",
     "output_type": "stream",
     "text": [
      "[1, 4, 9, 16, 25, 36, 49, 64, 81, 100]\n"
     ]
    }
   ],
   "source": [
    "# Find the squares of numbers from 1 to 10\n",
    "numbers = list(range(1, 11))\n",
    "\n",
    "squares = list(map(lambda x: x**2, numbers))\n",
    "\n",
    "print(squares)"
   ]
  },
  {
   "cell_type": "code",
   "execution_count": 8,
   "id": "e334015f-560d-49b6-961b-7d378b83b865",
   "metadata": {},
   "outputs": [
    {
     "name": "stdout",
     "output_type": "stream",
     "text": [
      "[1.0, 1.2599210498948732, 1.4422495703074083, 1.5874010519681994, 1.7099759466766968, 1.8171205928321397, 1.912931182772389, 2.0, 2.080083823051904, 2.154434690031884]\n"
     ]
    }
   ],
   "source": [
    "# Find the cube root of numbers from 1 to 10\n",
    "numbers = list(range(1,11))\n",
    "cuberoots = list(map(lambda x:x**(1/3), numbers))\n",
    "print(cuberoots)"
   ]
  },
  {
   "cell_type": "code",
   "execution_count": 9,
   "id": "ae2cad78-f262-4935-9419-0d57c309018f",
   "metadata": {},
   "outputs": [
    {
     "name": "stdout",
     "output_type": "stream",
     "text": [
      "True\n",
      "False\n"
     ]
    }
   ],
   "source": [
    "# Check if a given number is even\n",
    "is_even = lambda x: x % 2 == 0\n",
    "print(is_even(4))  \n",
    "print(is_even(7))  \n"
   ]
  },
  {
   "cell_type": "code",
   "execution_count": 10,
   "id": "cc6a267f-5718-4d98-9a5e-1c9b665f7d7a",
   "metadata": {},
   "outputs": [
    {
     "name": "stdout",
     "output_type": "stream",
     "text": [
      "[1, 3, 5, 7, 9]\n"
     ]
    }
   ],
   "source": [
    "# Filter odd numbers from the given list. [1,2,3,4,5,6,7,8,9,10]\n",
    "numbers = [1, 2, 3, 4, 5, 6, 7, 8, 9, 10]\n",
    "is_odd = lambda x: x % 2 != 0\n",
    "odd_numbers = list(filter(is_odd, numbers))\n",
    "print(odd_numbers)"
   ]
  },
  {
   "cell_type": "code",
   "execution_count": null,
   "id": "d346da58-fffb-4ea1-b721-03f1bd0170dc",
   "metadata": {},
   "outputs": [],
   "source": [
    "# Sort a list of integers into positive and negative integers lists. [1,2,3,4,5,6,-1,-2,-3,-4,-5,0] \n",
    "numbers = [1, 2, 3, 4, 5, 6, -1, -2, -3, -4, -5, 0]\n",
    "is_positive = lambda x: x > 0\n",
    "is_negative = lambda x: x < 0\n",
    "positive_numbers = list(filter(is_positive, numbers))\n",
    "negative_numbers = list(filter(is_negative, numbers))\n",
    "\n",
    "print(\"Positive numbers:\", positive_numbers) \n",
    "print(\"Negative numbers:\", negative_numbers) ]\n"
   ]
  }
 ],
 "metadata": {
  "kernelspec": {
   "display_name": "Python 3 (ipykernel)",
   "language": "python",
   "name": "python3"
  },
  "language_info": {
   "codemirror_mode": {
    "name": "ipython",
    "version": 3
   },
   "file_extension": ".py",
   "mimetype": "text/x-python",
   "name": "python",
   "nbconvert_exporter": "python",
   "pygments_lexer": "ipython3",
   "version": "3.10.8"
  }
 },
 "nbformat": 4,
 "nbformat_minor": 5
}
