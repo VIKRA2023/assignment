{
 "cells": [
  {
   "cell_type": "code",
   "execution_count": null,
   "id": "22ae2c80-fbfa-4abc-b058-19cf15108f20",
   "metadata": {},
   "outputs": [],
   "source": [
    "Que 1: Explain with an example each when to use a for loop and a while loop.\n",
    "\n",
    "Ans 1: A for loop is used when you want to iterate over a sequence of items, such as a list, a tuple, a string, or a range.For example:\n",
    "# Print the number form 1 to 10 using a for loop\n",
    "for i in range (1, 11):\n",
    "    print(i)\n",
    "    \n",
    "A while loop is used when you want to repeat a block of code until a certain condition is met.FOr example:\n",
    "# Print the numbers from 1 to 10 using while loop\n",
    "i = 1\n",
    "while i <= 10:\n",
    "    print(i)\n",
    "    i = i + 1"
   ]
  },
  {
   "cell_type": "code",
   "execution_count": null,
   "id": "fcf9f695-a978-4b30-a12d-71ebc1121673",
   "metadata": {},
   "outputs": [],
   "source": [
    "Que 2: To write a python program to print the sum and product of the first 10 natural numbers using for and while loop."
   ]
  },
  {
   "cell_type": "code",
   "execution_count": null,
   "id": "d03369a4-b344-40d3-b7c2-d8e1f02216fc",
   "metadata": {},
   "outputs": [],
   "source": [
    "# Using for loop\n",
    "sum = 0\n",
    "product = 1\n",
    "for i in range (1, 11):\n",
    "    sum = sum + i\n",
    "    product = product * i\n",
    "print(\"The sum is\" , sum)\n",
    "print(\"The product is\" , product)\n",
    "\n",
    "# Using while loop\n",
    "sum = 0\n",
    "product = 1\n",
    "i = 1\n",
    "while i <= 10:\n",
    "    sum = sum + i\n",
    "    product = product * i\n",
    "print(\"The sum is\", sum)\n",
    "print(\"The product is\", product)"
   ]
  },
  {
   "cell_type": "code",
   "execution_count": null,
   "id": "7ffe9225-6b23-427c-bf8b-80f866cc8738",
   "metadata": {},
   "outputs": [],
   "source": [
    "Que 3: Create a python program to compute the electricity bill for a household. \n",
    "The per-unit charges in rupees are as follows: For the first 100 units, the user will be charged Rs. 4.5 per  unit, for the next 100 units, the user will be charged Rs. 6 per unit, and for the next 100 units, the user will  be charged Rs. 10 per unit, After 300 units and above the user will be charged Rs. 20 per unit."
   ]
  },
  {
   "cell_type": "code",
   "execution_count": null,
   "id": "4798eb2c-09c4-4a5a-9f17-aeb3b46a3973",
   "metadata": {},
   "outputs": [],
   "source": [
    "# Get the units of electricity consumed in a month from the user\n",
    "units = int(input(\"Enter the units of elctricity consumed in a month: \"))\n",
    "\n",
    "#Initialize the bill amount to zero\n",
    "bill = 0\n",
    "\n",
    "#Calculate the bill amount based on the per unit charges\n",
    "if units <= 100:\n",
    "    bill = units * 4.5\n",
    "elif units <= 200:\n",
    "    bill = 100 * 4.5 + (units - 100) * 6\n",
    "elif units <= 300:\n",
    "    bill = 100 * 4.5 + 100 * 6 + (units - 200) * 10\n",
    "else:\n",
    "    bill = 100 * 4.5 + 100 * 6 + 100 * 10 + (units - 300) * 20\n",
    "    \n",
    "# Print the bill amount\n",
    "print(\"The electricity bill is\", bill)\n",
    "    "
   ]
  },
  {
   "cell_type": "code",
   "execution_count": null,
   "id": "d1109653-4236-4fd7-b729-26b3b18a6331",
   "metadata": {},
   "outputs": [],
   "source": [
    "Que 4: Create a list of numbers from 1 to 100. Use for loop and while loop to calculate the cube of each  number and if the cube of that number is divisible by 4 or 5 then append that number in a list and print  that list. "
   ]
  },
  {
   "cell_type": "code",
   "execution_count": null,
   "id": "7a640ad3-338e-4262-b33d-1e073caa3ef4",
   "metadata": {},
   "outputs": [],
   "source": [
    "#Create a list of numbers from 1 to 100\n",
    "numbers = list(range(1, 101))\n",
    "\n",
    "cubes_for = []\n",
    "\n",
    "for num in numbers:\n",
    "    cube = num ** 3\n",
    "    if cube % 4 == 0 or cube % 5 == 0:\n",
    "        cubes_for.append(num)\n",
    "        \n",
    "cubes_while = []\n",
    "i = 0\n",
    "while i < len(numbers):\n",
    "    num = numbers[i]\n",
    "    cube = num ** 3\n",
    "    if cube % 4 == 0 or cube % 5 == 0:\n",
    "        cubes_while.append(num)\n",
    "    i = i + 1\n",
    "    \n",
    "print(\"The list of numbers using for loop is\", cubes_for)\n",
    "print(\"The list of numbers using while loop is\", cubes_while)"
   ]
  },
  {
   "cell_type": "code",
   "execution_count": null,
   "id": "fc6f129e-0b8e-4e48-93ac-65eda2666e1f",
   "metadata": {},
   "outputs": [],
   "source": [
    "Que 5:  Write a program to filter count vowels in the below-given string. \n",
    "string = \"I want to become a data scientist\" \n"
   ]
  },
  {
   "cell_type": "code",
   "execution_count": null,
   "id": "c8097f1d-0a7e-417d-bf38-5fcadfebeb9e",
   "metadata": {},
   "outputs": [],
   "source": [
    "string = \"I want to become a data scientist\" \n",
    "\n",
    "vowels = \"aeiouAEIOU\"\n",
    "\n",
    "vowel_count = 0\n",
    "\n",
    "for char in string:\n",
    "    if char in vowels:\n",
    "        vowel_count += 1\n",
    "print(\"The number of vowels in the string is\", vowel_count)\n"
   ]
  },
  {
   "cell_type": "code",
   "execution_count": null,
   "id": "940e5d85-a03d-420f-9236-5c8499dc21e7",
   "metadata": {},
   "outputs": [],
   "source": []
  }
 ],
 "metadata": {
  "kernelspec": {
   "display_name": "Python 3 (ipykernel)",
   "language": "python",
   "name": "python3"
  },
  "language_info": {
   "codemirror_mode": {
    "name": "ipython",
    "version": 3
   },
   "file_extension": ".py",
   "mimetype": "text/x-python",
   "name": "python",
   "nbconvert_exporter": "python",
   "pygments_lexer": "ipython3",
   "version": "3.10.8"
  }
 },
 "nbformat": 4,
 "nbformat_minor": 5
}
