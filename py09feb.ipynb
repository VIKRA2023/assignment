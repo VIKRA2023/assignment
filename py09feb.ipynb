{
 "cells": [
  {
   "cell_type": "code",
   "execution_count": 2,
   "id": "421b9880-7b2d-46b5-8bc0-7556f44fc91b",
   "metadata": {},
   "outputs": [
    {
     "data": {
      "text/plain": [
       "'Q1. Create a vehicle class with an init method having instance variables as name_of_vehicle, max_speed and average_of_vehicle.'"
      ]
     },
     "execution_count": 2,
     "metadata": {},
     "output_type": "execute_result"
    }
   ],
   "source": [
    "\"\"\"Q1. Create a vehicle class with an init method having instance variables as name_of_vehicle, max_speed and average_of_vehicle.\"\"\""
   ]
  },
  {
   "cell_type": "code",
   "execution_count": 3,
   "id": "9270aa32-65be-4611-ba9d-04ba3cdc0361",
   "metadata": {},
   "outputs": [],
   "source": [
    "class Vehicle:\n",
    "    def __init__(self, name_of_vehicle, max_speed, average_speed):\n",
    "        self.name_of_vehicle = name_of_vehicle\n",
    "        self.max_speed = max_speed\n",
    "        self.average_speed = average_speed\n",
    "\n",
    "car = Vehicle(\"Toyota Camry\", 180, 60)\n",
    "bike = Vehicle(\"Honda CBR\", 220, 120)"
   ]
  },
  {
   "cell_type": "code",
   "execution_count": 4,
   "id": "b7f3c36f-bb4a-4b35-bc60-428391641d93",
   "metadata": {},
   "outputs": [
    {
     "data": {
      "text/plain": [
       "60"
      ]
     },
     "execution_count": 4,
     "metadata": {},
     "output_type": "execute_result"
    }
   ],
   "source": [
    "car.average_speed"
   ]
  },
  {
   "cell_type": "code",
   "execution_count": 5,
   "id": "5c5dc854-5abf-4b8d-a0ee-38abefa6de64",
   "metadata": {},
   "outputs": [
    {
     "data": {
      "text/plain": [
       "'Q2. Create a child class car from the vehicle class created in Que 1, which will inherit the vehicle class.Create a method named seating_capacity which takes capacity as an argument and returns the name of the vehicle and its seating capacity.'"
      ]
     },
     "execution_count": 5,
     "metadata": {},
     "output_type": "execute_result"
    }
   ],
   "source": [
    "\"\"\"Q2. Create a child class car from the vehicle class created in Que 1, which will inherit the vehicle class.Create a method named seating_capacity which takes capacity as an argument and returns the name of the vehicle and its seating capacity.\"\"\""
   ]
  },
  {
   "cell_type": "code",
   "execution_count": 8,
   "id": "b168b8f4-d8d8-4bf1-aa1f-4ee0bd277d81",
   "metadata": {},
   "outputs": [
    {
     "name": "stdout",
     "output_type": "stream",
     "text": [
      "Toyota Camry has a seating capacity of 5 people.\n",
      "Honda Civic has a seating capacity of 4 people.\n"
     ]
    }
   ],
   "source": [
    "class Vehicle:\n",
    "    def __init__(self, name_of_vehicle, max_speed, average_speed):\n",
    "        self.name_of_vehicle = name_of_vehicle\n",
    "        self.max_speed = max_speed\n",
    "        self.average_speed = average_speed\n",
    "    \n",
    "    def seating_capacity(self, capacity):\n",
    "        return f\"{self.name_of_vehicle} has a seating capacity of {capacity} people.\"\n",
    "\n",
    "car1 = Vehicle(\"Toyota Camry\", 180, 60)\n",
    "print(car1.seating_capacity(5))  \n",
    "\n",
    "car2 = Vehicle(\"Honda Civic\", 200, 70)\n",
    "print(car2.seating_capacity(4))\n"
   ]
  },
  {
   "cell_type": "code",
   "execution_count": 3,
   "id": "e456a85a-f01a-4997-a817-90a2cf0a944d",
   "metadata": {},
   "outputs": [
    {
     "data": {
      "text/plain": [
       "'Q3. What is multiple inheritance? Write a python code to demonstrate multiple inheritance.\\nAns. Multiple inheritance is a feature in object-oriented programming where a subclass can inherit from multiple parent classes. This allows the subclass to have the properties and behaviors of all its parent classes.'"
      ]
     },
     "execution_count": 3,
     "metadata": {},
     "output_type": "execute_result"
    }
   ],
   "source": [
    "\"\"\"Q3. What is multiple inheritance? Write a python code to demonstrate multiple inheritance.\n",
    "Ans. Multiple inheritance is a feature in object-oriented programming where a subclass can inherit from multiple parent classes. This allows the subclass to have the properties and behaviors of all its parent classes.\"\"\""
   ]
  },
  {
   "cell_type": "code",
   "execution_count": 2,
   "id": "e31f8a4f-dc50-4b05-bbba-09cb363053ae",
   "metadata": {},
   "outputs": [
    {
     "name": "stdout",
     "output_type": "stream",
     "text": [
      "Canine is eating.\n",
      "Rover is playing.\n"
     ]
    }
   ],
   "source": [
    "class Animal:\n",
    "    def __init__(self, species):\n",
    "        self.species = species\n",
    "    \n",
    "    def eat(self):\n",
    "        print(f\"{self.species} is eating.\")\n",
    "\n",
    "class Pet:\n",
    "    def __init__(self, name):\n",
    "        self.name = name\n",
    "    \n",
    "    def play(self):\n",
    "        print(f\"{self.name} is playing.\")\n",
    "\n",
    "class Dog(Animal, Pet):\n",
    "    def __init__(self, name, species):\n",
    "        Animal.__init__(self, species)\n",
    "        Pet.__init__(self, name)\n",
    "\n",
    "dog = Dog(\"Rover\", \"Canine\")\n",
    "dog.eat()  \n",
    "dog.play() \n"
   ]
  },
  {
   "cell_type": "markdown",
   "id": "03d24f5b-33e0-4152-9da5-b0cb19f98bb7",
   "metadata": {},
   "source": [
    "# Q4. What are getter and setter in python? Create a class and create a getter and a setter method in this class.\n",
    "Ans. In Python, getters and setters are methods that allow us to get and set the values of instance variables in a class. These methods are useful for controlling access to the variables and can help ensure that the variables are set and retrieved correctly."
   ]
  },
  {
   "cell_type": "code",
   "execution_count": 4,
   "id": "9ba08e32-07ba-4682-870c-9698fa092a75",
   "metadata": {},
   "outputs": [
    {
     "name": "stdout",
     "output_type": "stream",
     "text": [
      "John\n",
      "Jane\n"
     ]
    }
   ],
   "source": [
    "class Person:\n",
    "    def __init__(self, name):\n",
    "        self._name = name  \n",
    "    \n",
    "    def get_name(self):\n",
    "        return self._name\n",
    "    \n",
    "    def set_name(self, new_name):\n",
    "        self._name = new_name\n",
    "        \n",
    "person = Person(\"John\")\n",
    "print(person.get_name())  \n",
    "\n",
    "person.set_name(\"Jane\")\n",
    "print(person.get_name())  \n"
   ]
  },
  {
   "cell_type": "markdown",
   "id": "e711f864-13eb-482b-9e9b-8b0b6c8583bd",
   "metadata": {},
   "source": [
    "# Q5.What is method overriding in python? Write a python code to demonstrate method overriding.\n",
    "Ans. Method overriding is a feature in object-oriented programming where a subclass provides its own implementation of a method that is already defined in its parent class. This allows the subclass to change or extend the behavior of the method."
   ]
  },
  {
   "cell_type": "code",
   "execution_count": 5,
   "id": "0c5434fc-087d-4d66-a5f0-503cd4525563",
   "metadata": {},
   "outputs": [
    {
     "name": "stdout",
     "output_type": "stream",
     "text": [
      "The animal makes a sound.\n",
      "The dog barks.\n",
      "The cat meows.\n"
     ]
    }
   ],
   "source": [
    "class Animal:\n",
    "    def make_sound(self):\n",
    "        print(\"The animal makes a sound.\")\n",
    "\n",
    "class Dog(Animal):\n",
    "    def make_sound(self):\n",
    "        print(\"The dog barks.\")\n",
    "\n",
    "class Cat(Animal):\n",
    "    def make_sound(self):\n",
    "        print(\"The cat meows.\")\n",
    "\n",
    "animal = Animal()\n",
    "dog = Dog()\n",
    "cat = Cat()\n",
    "\n",
    "animal.make_sound()  \n",
    "dog.make_sound() \n",
    "cat.make_sound() "
   ]
  },
  {
   "cell_type": "code",
   "execution_count": null,
   "id": "e0d3d36f-9c1e-4bfa-8cf7-d4ef9c6d7c82",
   "metadata": {},
   "outputs": [],
   "source": []
  }
 ],
 "metadata": {
  "kernelspec": {
   "display_name": "Python 3 (ipykernel)",
   "language": "python",
   "name": "python3"
  },
  "language_info": {
   "codemirror_mode": {
    "name": "ipython",
    "version": 3
   },
   "file_extension": ".py",
   "mimetype": "text/x-python",
   "name": "python",
   "nbconvert_exporter": "python",
   "pygments_lexer": "ipython3",
   "version": "3.10.8"
  }
 },
 "nbformat": 4,
 "nbformat_minor": 5
}
