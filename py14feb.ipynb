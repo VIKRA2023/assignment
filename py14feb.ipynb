{
 "cells": [
  {
   "cell_type": "markdown",
   "id": "b3b7e078-f87d-4db7-8ee2-83685b282400",
   "metadata": {},
   "source": [
    "# Q1.What is multithreading in python? Why is it used? Name the module used t o handle threads in python.\n",
    "Ans. Multithreading in Python refers to the ability to run multiple threads of execution concurrently within a single process. Each thread represents a separate flow of control, with its own set of instructions and resources. The threads run independently of each other, but they share the same memory space, so they can communicate and share data.\n",
    "\n",
    "Multithreading is used to make programs more responsive and to improve performance by allowing multiple tasks to be executed simultaneously. For example, a program that downloads multiple files from the internet can use multithreading to download each file on a separate thread, which can improve the download speed.\n",
    "\n",
    "In Python, the threading module is used to handle threads. This module provides a simple way to create and manage threads in Python. It includes functions for starting, stopping, and joining threads, as well as for synchronization between threads using locks and other mechanisms. The threading module is built on top of the lower-level thread module, but it provides a higher-level, more Pythonic interface."
   ]
  },
  {
   "cell_type": "markdown",
   "id": "9a89d0be-92d1-4d86-8c23-80f63fc2d931",
   "metadata": {},
   "source": [
    "# Q2. Why threading module used ? Write the use of the following function: \n",
    "# 1. activeCount()\n",
    "# 2. currentThread()\n",
    "# 3. enumerate()\n",
    "Ans. The threading module in Python is used to create and manage threads in a Python program. It provides a higher-level interface than the lower-level thread module, and allows for more convenient and Pythonic code for dealing with threads.\n",
    "1. activeCount(): This function returns the number of currently active threads in the program. It is useful for monitoring the number of threads that are currently running and can be used to avoid creating too many threads, which can lead to performance issues.\n",
    "\n",
    "2. currentThread(): This function returns a reference to the currently executing thread. It is useful for accessing properties of the current thread, such as its name or thread ID.\n",
    "\n",
    "3. enumerate(): This function returns a list of all currently active threads in the program. It is useful for monitoring and debugging multithreaded programs. The returned list contains Thread objects for each active thread, which can be used to access information about the thread, such as its name or thread ID."
   ]
  },
  {
   "cell_type": "markdown",
   "id": "149451c1-e867-4c9d-9c5b-6103dbd43d6e",
   "metadata": {},
   "source": [
    "# Q3. Explain the follwing functions:\n",
    "# 1. run()\n",
    "# 2. start()\n",
    "# 3. join()\n",
    "# 4. isAlive()\n",
    "\n",
    "Ans. The following are the explanations for some commonly used functions in the threading module:\n",
    "\n",
    "run(): This is the method that is executed when a thread is started. You can override this method in a subclass of the Thread class to define the thread's behavior. When you start a thread using the start() method, the run() method is called automatically.\n",
    "\n",
    "start(): This method starts the execution of a thread. When you call this method, it creates a new thread and starts running the thread's run() method. The start() method does not block the calling thread, and returns immediately after the new thread has been created.\n",
    "\n",
    "join(): This method waits for a thread to finish its execution. When you call this method on a thread, the calling thread is blocked until the target thread completes its execution. This method is useful when you need to ensure that a thread has completed before continuing with the main program.\n",
    "\n",
    "isAlive(): This method returns a boolean value indicating whether a thread is still executing or not. When you call this method on a thread, it returns True if the thread is currently running, and False otherwise. This method can be used to check the status of a thread and take appropriate action based on its status."
   ]
  },
  {
   "cell_type": "code",
   "execution_count": 1,
   "id": "553dccbf-d7b1-445a-ad09-76b8bd7d412e",
   "metadata": {},
   "outputs": [
    {
     "name": "stdout",
     "output_type": "stream",
     "text": [
      "List of squares: [0, 1, 4, 9, 16, 25, 36, 49, 64, 81]\n",
      "List of cubes: [0, 1, 8, 27, 64, 125, 216, 343, 512, 729]\n",
      "Done\n"
     ]
    }
   ],
   "source": [
    "# Q4. Write a python program to create two threads. Thread one must print the list of squares and thread two must print the list of cubes.\n",
    "import threading\n",
    "\n",
    "def print_squares():\n",
    "    squares = [x*x for x in range(10)]\n",
    "    print(\"List of squares:\", squares)\n",
    "\n",
    "def print_cubes():\n",
    "    cubes = [x*x*x for x in range(10)]\n",
    "    print(\"List of cubes:\", cubes)\n",
    "\n",
    "if __name__ == \"__main__\":\n",
    "    \n",
    "    t1 = threading.Thread(target=print_squares)\n",
    "    t2 = threading.Thread(target=print_cubes)\n",
    "\n",
    "    \n",
    "    t1.start()\n",
    "    t2.start()\n",
    "\n",
    "    \n",
    "    t1.join()\n",
    "    t2.join()\n",
    "\n",
    "    print(\"Done\")\n"
   ]
  },
  {
   "cell_type": "markdown",
   "id": "6e96b08a-2694-4cac-b996-03b665b0f53c",
   "metadata": {},
   "source": [
    "# Q5. State advantage and disadvantages of multithreading.\n",
    "Ans. Multithreading is a technique used in programming to allow multiple threads of execution to run concurrently within a single program.\n",
    "Advantages:\n",
    "\n",
    "Improved performance: Multithreading can improve the overall performance of a program by allowing multiple tasks to be executed simultaneously. This can be particularly useful in applications where there are long-running tasks that can be executed in parallel with other tasks.\n",
    "Resource sharing: Multithreading allows multiple threads to share the same resources, such as memory, I/O devices, and CPU time. This can lead to more efficient use of system resources.\n",
    "Responsiveness: Multithreading can improve the responsiveness of a program by allowing it to perform multiple tasks concurrently. This can be particularly important in applications that require real-time interaction with users or external systems.\n",
    "Disadvantages:\n",
    "\n",
    "Complexity: Multithreaded programs can be more complex than single-threaded programs, and can be more difficult to debug and maintain.\n",
    "Race conditions: Multithreading can introduce race conditions, which occur when multiple threads access shared resources concurrently and produce unexpected results. These can be difficult to detect and diagnose.\n",
    "Deadlocks: Multithreading can also lead to deadlocks, which occur when two or more threads are blocked and waiting for resources that are held by other threads. This can result in a program that appears to be stuck and unresponsive."
   ]
  },
  {
   "cell_type": "markdown",
   "id": "f60f7e0a-663c-4f3f-a500-e51708396853",
   "metadata": {},
   "source": [
    "# Q6. Explain deadlocks and race conditions.\n",
    "Ans. Deadlock and race conditions are two common synchronization problems that can occur in concurrent programming. Let's discuss each of them:\n",
    "\n",
    "1. Deadlock:\n",
    "Deadlock is a situation where two or more threads or processes are unable to proceed because each is waiting for the other to release a resource. In other words, it is a state of a program where all threads are blocked and unable to complete their execution. Deadlocks can occur due to four necessary conditions:\n",
    "\n",
    "- Mutual Exclusion: At least one resource must be held in a non-sharable mode, meaning it cannot be simultaneously accessed or modified by multiple threads.\n",
    "- Hold and Wait: A thread must hold at least one resource and be waiting to acquire additional resources that are currently held by other threads.\n",
    "- No Preemption: Resources cannot be forcibly taken away from a thread. They can only be released voluntarily by the thread holding them.\n",
    "- Circular Wait: A set of threads is waiting for resources in such a way that each thread is waiting for a resource held by another thread in the set.\n",
    "\n",
    "To resolve deadlocks, techniques like resource ordering, deadlock detection, and deadlock prevention algorithms can be employed.\n",
    "\n",
    "2. Race Condition:\n",
    "A race condition occurs when the behavior of a program depends on the relative timing or interleaving of multiple threads or processes. It arises when multiple threads access and manipulate shared data concurrently without proper synchronization. The outcome of the program becomes unpredictable because the order of execution of the threads is non-deterministic.\n",
    "\n",
    "Race conditions can lead to incorrect results, inconsistent data, or program crashes. They usually occur when multiple threads are trying to write to a shared resource simultaneously or when one thread is writing to a shared resource while another thread is reading from it.\n",
    "\n",
    "To avoid race conditions, synchronization mechanisms like locks, semaphores, and barriers are used to ensure that only one thread can access the shared resource at a time or that access is properly coordinated to prevent data inconsistencies.\n",
    "\n",
    "Overall, both deadlocks and race conditions are critical issues in concurrent programming that can lead to unexpected program behavior and need to be carefully addressed to ensure correct and reliable execution of concurrent programs."
   ]
  },
  {
   "cell_type": "code",
   "execution_count": null,
   "id": "85f9ca16-66cf-4854-8265-ede005b57f05",
   "metadata": {},
   "outputs": [],
   "source": []
  }
 ],
 "metadata": {
  "kernelspec": {
   "display_name": "Python 3 (ipykernel)",
   "language": "python",
   "name": "python3"
  },
  "language_info": {
   "codemirror_mode": {
    "name": "ipython",
    "version": 3
   },
   "file_extension": ".py",
   "mimetype": "text/x-python",
   "name": "python",
   "nbconvert_exporter": "python",
   "pygments_lexer": "ipython3",
   "version": "3.10.8"
  }
 },
 "nbformat": 4,
 "nbformat_minor": 5
}
