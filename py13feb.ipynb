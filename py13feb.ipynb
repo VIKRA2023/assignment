{
 "cells": [
  {
   "cell_type": "markdown",
   "id": "d13b4e54-54e6-4235-9e40-1c8db4354bd3",
   "metadata": {},
   "source": [
    "# Q1. Explain why we have to use the Exception class while creating a Custom Exception.Note: Here Exception class refers to the base class for all the exceptions.\n",
    "Ans. In Python, all built-in exceptions are derived from the base class Exception. This includes exceptions like ValueError, TypeError, IndexError, and many others. When you create a custom exception, it is a good practice to also derive it from the base Exception class, so that it is consistent with the built-in exceptions and can be handled in the same way.\n",
    "\n",
    "The Exception class provides a basic structure and behavior for exceptions, including methods like __init__, __str__, and __repr__ that are used to customize the error message and appearance of the exception when it is raised. By inheriting from Exception, your custom exception can also take advantage of any functionality provided by the base class, such as built-in attributes like args and message.\n",
    "In summary, using the Exception class as the base class for your custom exceptions provides consistency with the built-in exceptions, allows you to take advantage of base class functionality, and makes it clear to other developers how to handle your custom exceptions."
   ]
  },
  {
   "cell_type": "code",
   "execution_count": 1,
   "id": "01bb6e8e-2506-4c54-b7fb-f324dbec1185",
   "metadata": {},
   "outputs": [
    {
     "ename": "TypeError",
     "evalue": "issubclass() arg 1 must be a class",
     "output_type": "error",
     "traceback": [
      "\u001b[0;31m---------------------------------------------------------------------------\u001b[0m",
      "\u001b[0;31mTypeError\u001b[0m                                 Traceback (most recent call last)",
      "Cell \u001b[0;32mIn[1], line 6\u001b[0m\n\u001b[1;32m      2\u001b[0m \u001b[38;5;28;01mimport\u001b[39;00m \u001b[38;5;21;01mbuiltins\u001b[39;00m\n\u001b[1;32m      4\u001b[0m attributes \u001b[38;5;241m=\u001b[39m \u001b[38;5;28mdir\u001b[39m(builtins)\n\u001b[0;32m----> 6\u001b[0m exception_classes \u001b[38;5;241m=\u001b[39m [attr \u001b[38;5;28;01mfor\u001b[39;00m attr \u001b[38;5;129;01min\u001b[39;00m attributes \u001b[38;5;28;01mif\u001b[39;00m \u001b[38;5;28missubclass\u001b[39m(\u001b[38;5;28mgetattr\u001b[39m(builtins, attr), \u001b[38;5;167;01mBaseException\u001b[39;00m)]\n\u001b[1;32m      8\u001b[0m \u001b[38;5;28;01mfor\u001b[39;00m exception_class \u001b[38;5;129;01min\u001b[39;00m exception_classes:\n\u001b[1;32m      9\u001b[0m     \u001b[38;5;28mprint\u001b[39m(exception_class)\n",
      "Cell \u001b[0;32mIn[1], line 6\u001b[0m, in \u001b[0;36m<listcomp>\u001b[0;34m(.0)\u001b[0m\n\u001b[1;32m      2\u001b[0m \u001b[38;5;28;01mimport\u001b[39;00m \u001b[38;5;21;01mbuiltins\u001b[39;00m\n\u001b[1;32m      4\u001b[0m attributes \u001b[38;5;241m=\u001b[39m \u001b[38;5;28mdir\u001b[39m(builtins)\n\u001b[0;32m----> 6\u001b[0m exception_classes \u001b[38;5;241m=\u001b[39m [attr \u001b[38;5;28;01mfor\u001b[39;00m attr \u001b[38;5;129;01min\u001b[39;00m attributes \u001b[38;5;28;01mif\u001b[39;00m \u001b[38;5;28;43missubclass\u001b[39;49m\u001b[43m(\u001b[49m\u001b[38;5;28;43mgetattr\u001b[39;49m\u001b[43m(\u001b[49m\u001b[43mbuiltins\u001b[49m\u001b[43m,\u001b[49m\u001b[43m \u001b[49m\u001b[43mattr\u001b[49m\u001b[43m)\u001b[49m\u001b[43m,\u001b[49m\u001b[43m \u001b[49m\u001b[38;5;167;43;01mBaseException\u001b[39;49;00m\u001b[43m)\u001b[49m]\n\u001b[1;32m      8\u001b[0m \u001b[38;5;28;01mfor\u001b[39;00m exception_class \u001b[38;5;129;01min\u001b[39;00m exception_classes:\n\u001b[1;32m      9\u001b[0m     \u001b[38;5;28mprint\u001b[39m(exception_class)\n",
      "\u001b[0;31mTypeError\u001b[0m: issubclass() arg 1 must be a class"
     ]
    }
   ],
   "source": [
    "# Q2. Write a python program to print Python Exception Hierarchy.\n",
    "import builtins\n",
    "\n",
    "attributes = dir(builtins)\n",
    "\n",
    "exception_classes = [attr for attr in attributes if issubclass(getattr(builtins, attr), BaseException)]\n",
    "\n",
    "for exception_class in exception_classes:\n",
    "    print(exception_class)\n",
    "    for subclass in getattr(builtins, exception_class).__subclasses__():\n",
    "        print(f\"  {subclass.__name__}\")\n",
    "    print()\n"
   ]
  },
  {
   "cell_type": "markdown",
   "id": "974ebe47-2803-4009-8528-ef5b0f231925",
   "metadata": {},
   "source": [
    "# Q3. What errors are defined in the ArithmeticError class? Explain any two with an example.\n",
    "The ArithmeticError class is a base class for arithmetic errors. It has several subclasses, including ZeroDivisionError, FloatingPointError, and OverflowError. Here are explanations and examples of two of these subclasses:\n",
    "\n",
    "ZeroDivisionError: This error is raised when you try to divide a number by zero. For example, 10 / 0 will raise a ZeroDivisionError. "
   ]
  },
  {
   "cell_type": "code",
   "execution_count": 3,
   "id": "d42e2879-663c-4d66-a45f-7d79e38730b9",
   "metadata": {},
   "outputs": [
    {
     "name": "stdout",
     "output_type": "stream",
     "text": [
      "Error: division by zero\n"
     ]
    }
   ],
   "source": [
    "try:\n",
    "    result = 10 / 0\n",
    "except ZeroDivisionError as e:\n",
    "    print(\"Error:\", e)\n"
   ]
  },
  {
   "cell_type": "code",
   "execution_count": 5,
   "id": "a9a7b345-652e-4b2e-8a96-d66927cd73cf",
   "metadata": {},
   "outputs": [],
   "source": [
    "# OverflowError: This error is raised when a calculation exceeds the maximum representable value in Python. For example, if you try to calculate 2**1000, it will raise an OverflowError\n",
    "try:\n",
    "    result = 2 ** 1000\n",
    "except OverflowError as e:\n",
    "    print(\"Error:\", e)"
   ]
  },
  {
   "cell_type": "markdown",
   "id": "9ef92fce-67cc-4cf1-b281-6ae539e9c1d4",
   "metadata": {},
   "source": [
    "# Q4. Why LookupError class is used? Explain with an example KeyError and IndexError.\n",
    "The LookupError class is a base class for errors that occur when a specified key or index cannot be found in a sequence or mapping. Two of its subclasses are KeyError and IndexError."
   ]
  },
  {
   "cell_type": "code",
   "execution_count": 6,
   "id": "93d8d63c-29a4-416f-baa8-d7645e3e716f",
   "metadata": {},
   "outputs": [
    {
     "name": "stdout",
     "output_type": "stream",
     "text": [
      "Error: 'c'\n"
     ]
    }
   ],
   "source": [
    "# KeyError: This error is raised when a dictionary key is not found. For example, if you try to access a non-existent key in a dictionary, like my_dict['nonexistent_key'], it will raise a KeyError.\n",
    "my_dict = {'a': 1, 'b': 2}\n",
    "try:\n",
    "    result = my_dict['c']\n",
    "except KeyError as e:\n",
    "    print(\"Error:\", e)"
   ]
  },
  {
   "cell_type": "code",
   "execution_count": 7,
   "id": "df87967c-99c9-47fe-97ba-7953b55679cc",
   "metadata": {},
   "outputs": [
    {
     "name": "stdout",
     "output_type": "stream",
     "text": [
      "Error: list index out of range\n"
     ]
    }
   ],
   "source": [
    "# IndexError: This error is raised when you try to access an index that is out of range for a sequence. For example, if you try to access the 5th element of a list that only has 3 elements, like my_list[4], it will raise an IndexError.\n",
    "my_list = [1, 2, 3]\n",
    "try:\n",
    "    result = my_list[4]\n",
    "except IndexError as e:\n",
    "    print(\"Error:\", e)"
   ]
  },
  {
   "cell_type": "markdown",
   "id": "b17c3a50-2297-4daf-acf6-c327a3a6d08c",
   "metadata": {},
   "source": [
    "# Q5. Explain ImportError. What is ModuleNotFoundError?\n",
    "Ans. ImportError is raised when a module or package cannot be imported. This can happen if the module or package does not exist, or if there is an error in the code of the module or one of its dependencies. For example, if you try to import a non-existent module, like import non_existent_module, it will raise an ImportError.\n",
    "\n",
    "ModuleNotFoundError is a subclass of ImportError that was added in Python 3.6. It is raised when a module cannot be found. This is typically because the module does not exist, or because it is not in a directory that Python is searching for modules. For example, if you try to import a non-existent module with Python 3.6 or later, like import non_existent_module, it will raise a ModuleNotFoundError.\n",
    "\n",
    "\n"
   ]
  },
  {
   "cell_type": "code",
   "execution_count": null,
   "id": "20894b1c-6552-40e2-9482-e291edc27ec7",
   "metadata": {},
   "outputs": [],
   "source": [
    "Q6. List down some best practices for exception handlin/\n",
    "g in python."
   ]
  }
 ],
 "metadata": {
  "kernelspec": {
   "display_name": "Python 3 (ipykernel)",
   "language": "python",
   "name": "python3"
  },
  "language_info": {
   "codemirror_mode": {
    "name": "ipython",
    "version": 3
   },
   "file_extension": ".py",
   "mimetype": "text/x-python",
   "name": "python",
   "nbconvert_exporter": "python",
   "pygments_lexer": "ipython3",
   "version": "3.10.8"
  }
 },
 "nbformat": 4,
 "nbformat_minor": 5
}
