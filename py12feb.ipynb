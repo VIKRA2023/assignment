{
 "cells": [
  {
   "cell_type": "markdown",
   "id": "929d3e16-c340-41e2-a478-15b102ff5c25",
   "metadata": {},
   "source": [
    "# Q1. What is an exception in python? Write the differnece between Exceptions and syntax errors.\n",
    "Ans. An exception in pyhton is an event that occurs when something goeswrong during the execution of a program. It interrupts the normal flow of the program and may cause it to terminate abnormally. Exceptions are different from syntax errors, which are mistakes in the structure or grammar of the code. Syntax errors prevent the program from running, while exceptions occur during runtime of the program."
   ]
  },
  {
   "cell_type": "markdown",
   "id": "edabf54a-413e-4cd6-acaf-4ebd1225c1e5",
   "metadata": {},
   "source": [
    "# Q2. What happens when an exception is not handled ? Explain with example.\n",
    "When an exception is not handled, it causes the program to stop and display an error message. The error message contains information about the tyoe of exception, the location where it occured and a traceback of the call stack."
   ]
  },
  {
   "cell_type": "code",
   "execution_count": 3,
   "id": "83f70d81-8e1c-4966-8fab-89d47c1b6ec3",
   "metadata": {},
   "outputs": [
    {
     "ename": "ZeroDivisionError",
     "evalue": "division by zero",
     "output_type": "error",
     "traceback": [
      "\u001b[0;31m---------------------------------------------------------------------------\u001b[0m",
      "\u001b[0;31mZeroDivisionError\u001b[0m                         Traceback (most recent call last)",
      "Cell \u001b[0;32mIn[3], line 4\u001b[0m\n\u001b[1;32m      2\u001b[0m x \u001b[38;5;241m=\u001b[39m \u001b[38;5;241m10\u001b[39m\n\u001b[1;32m      3\u001b[0m y \u001b[38;5;241m=\u001b[39m \u001b[38;5;241m0\u001b[39m\n\u001b[0;32m----> 4\u001b[0m z \u001b[38;5;241m=\u001b[39m \u001b[43mx\u001b[49m\u001b[43m \u001b[49m\u001b[38;5;241;43m/\u001b[39;49m\u001b[43m \u001b[49m\u001b[43my\u001b[49m\n\u001b[1;32m      5\u001b[0m \u001b[38;5;28mprint\u001b[39m(z)\n",
      "\u001b[0;31mZeroDivisionError\u001b[0m: division by zero"
     ]
    }
   ],
   "source": [
    "# try to divide a number by Zero\n",
    "x = 10\n",
    "y = 0\n",
    "z = x / y\n",
    "print(z)"
   ]
  },
  {
   "cell_type": "markdown",
   "id": "0561b5bb-4b3a-42f7-ae17-89337f6ba7ca",
   "metadata": {},
   "source": [
    "# Q3. Which Python statements are used to catch handle exceptions? Explain with an example.\n",
    "ans. The pyhton statements that are used to catch and handle exceptions are try and except. THe try block contains the code that may raise an exception and the except block contains the code that handles the exception if it occurs."
   ]
  },
  {
   "cell_type": "code",
   "execution_count": 4,
   "id": "b48fc159-aa9c-4ca8-8db9-9b0f07801bd2",
   "metadata": {},
   "outputs": [
    {
     "name": "stdout",
     "output_type": "stream",
     "text": [
      "Cannot divide by zero\n"
     ]
    }
   ],
   "source": [
    "# Zerodivisionerror exception\n",
    "\n",
    "x = 10\n",
    "y = 0\n",
    "try:\n",
    "    z = x / y\n",
    "    print(z)\n",
    "except ZeroDivisionError:\n",
    "    print(\"Cannot divide by zero\")"
   ]
  },
  {
   "cell_type": "markdown",
   "id": "8ce9c27f-be78-4a9b-ac43-4ac0e5c938b7",
   "metadata": {},
   "source": [
    "# Q4(i). Explain try and else with an example.\n",
    "The try and else clauses are used to execute some code when no exception occurs in the try block. THe else clause is executed aftre the try block but before the finally clause if present."
   ]
  },
  {
   "cell_type": "code",
   "execution_count": 6,
   "id": "696a353c-fcf8-4cfc-9696-ec829dcefb40",
   "metadata": {},
   "outputs": [
    {
     "name": "stdout",
     "output_type": "stream",
     "text": [
      "5.0\n",
      "Division successful\n"
     ]
    }
   ],
   "source": [
    "x = 10\n",
    "y = 2\n",
    "try:\n",
    "    z = x / y\n",
    "    print(z)\n",
    "except ZeroDivisionError:\n",
    "    \n",
    "    print(\"Cannot divide by zero\")\n",
    "else:\n",
    "    print(\"Division successful\")"
   ]
  },
  {
   "cell_type": "markdown",
   "id": "1e86c7a7-9033-4431-8413-2db690764a81",
   "metadata": {},
   "source": [
    "# Q4(ii). Explain finally with an example.\n",
    "Ans. The finally clause is used to execute some code regardless of whether an exception occurs or not in the try block. THe finally clause is excuted after the try, except and else clause and before any return , break or continue statements."
   ]
  },
  {
   "cell_type": "code",
   "execution_count": 14,
   "id": "8dac1cdd-f363-4fb1-80f8-719da4fb423e",
   "metadata": {},
   "outputs": [
    {
     "name": "stdout",
     "output_type": "stream",
     "text": [
      "File opened succesfully\n",
      "File closed\n"
     ]
    }
   ],
   "source": [
    "try:\n",
    "    f = open(\"file.txt\",\"w\")\n",
    "except FileNotFoundError:\n",
    "    print(\"File not found\")\n",
    "else:\n",
    "    print(\"File opened succesfully\")\n",
    "finally:\n",
    "    f.close()\n",
    "    print(\"File closed\")"
   ]
  },
  {
   "cell_type": "markdown",
   "id": "7ac619be-3629-40f6-8367-885056cc4896",
   "metadata": {},
   "source": [
    "# Q4(iii). Explain raise with an example.\n",
    "Ans. The raise statement is used to manually trigger an exception in python. We can use it to raise a built in exception or a custom exception that we define."
   ]
  },
  {
   "cell_type": "code",
   "execution_count": 16,
   "id": "84f13b30-2fd9-46da-80ab-f51fb9375d87",
   "metadata": {},
   "outputs": [
    {
     "name": "stdin",
     "output_type": "stream",
     "text": [
      "Enter a positive number:  -5\n"
     ]
    },
    {
     "ename": "ValueError",
     "evalue": "Invaild input",
     "output_type": "error",
     "traceback": [
      "\u001b[0;31m---------------------------------------------------------------------------\u001b[0m",
      "\u001b[0;31mValueError\u001b[0m                                Traceback (most recent call last)",
      "Cell \u001b[0;32mIn[16], line 3\u001b[0m\n\u001b[1;32m      1\u001b[0m x \u001b[38;5;241m=\u001b[39m \u001b[38;5;28mint\u001b[39m(\u001b[38;5;28minput\u001b[39m(\u001b[38;5;124m\"\u001b[39m\u001b[38;5;124mEnter a positive number: \u001b[39m\u001b[38;5;124m\"\u001b[39m))\n\u001b[1;32m      2\u001b[0m \u001b[38;5;28;01mif\u001b[39;00m x \u001b[38;5;241m<\u001b[39m \u001b[38;5;241m0\u001b[39m:\n\u001b[0;32m----> 3\u001b[0m     \u001b[38;5;28;01mraise\u001b[39;00m \u001b[38;5;167;01mValueError\u001b[39;00m(\u001b[38;5;124m\"\u001b[39m\u001b[38;5;124mInvaild input\u001b[39m\u001b[38;5;124m\"\u001b[39m)\n\u001b[1;32m      4\u001b[0m \u001b[38;5;28;01melse\u001b[39;00m:\n\u001b[1;32m      5\u001b[0m     \u001b[38;5;28mprint\u001b[39m(\u001b[38;5;124m\"\u001b[39m\u001b[38;5;124mYou entered:\u001b[39m\u001b[38;5;124m\"\u001b[39m, x)\n",
      "\u001b[0;31mValueError\u001b[0m: Invaild input"
     ]
    }
   ],
   "source": [
    "x = int(input(\"Enter a positive number: \"))\n",
    "if x < 0:\n",
    "    raise ValueError(\"Invaild input\")\n",
    "else:\n",
    "    print(\"You entered:\", x)"
   ]
  },
  {
   "cell_type": "markdown",
   "id": "e1477eea-65cb-471a-a88d-bcc2af004be1",
   "metadata": {},
   "source": [
    "# Q5. What are custom exceptions in python? Why do we need custom exceptions? Explain with an example .\n",
    "Ans. Custom exceptions are user defined exceptions that inherit from the built in exception class or one of its subclasses. We need custom exceptions to handle specific errors or situations that are not covered by the standard exceptions."
   ]
  },
  {
   "cell_type": "code",
   "execution_count": 21,
   "id": "5a9a48d1-39ca-4f26-bd85-c92525e1c435",
   "metadata": {},
   "outputs": [
    {
     "name": "stdin",
     "output_type": "stream",
     "text": [
      "Enter a value between 1 to 10:  2\n"
     ]
    },
    {
     "name": "stdout",
     "output_type": "stream",
     "text": [
      "Valid input\n"
     ]
    }
   ],
   "source": [
    "class InvalidInputException(Exception):\n",
    "    \"\"\"Raised when the input value is invalid\"\"\"\n",
    "    pass\n",
    "\n",
    "try:\n",
    "    input_value = int(input(\"Enter a value between 1 to 10: \"))\n",
    "    if not 1 <= input_value <= 10:\n",
    "        raise InvalidInputException\n",
    "    else:\n",
    "        print(\"Valid input\")\n",
    "except InvalidInputException:\n",
    "    print(\"Invalid input\")\n"
   ]
  },
  {
   "cell_type": "code",
   "execution_count": null,
   "id": "59e0d0b2-440a-499f-8af7-00b8a347f0b3",
   "metadata": {},
   "outputs": [],
   "source": [
    "# Q6. Create a custom exception class. Use this class to handle an exception.\n",
    "class MyCustomException(Exception):\n",
    "    \"\"\"My custom exception class\"\"\"\n",
    "try:\n",
    "    MyCustomException(\"An error occurred\")\n",
    "except MyCustomException as e:\n",
    "    print(e)\n"
   ]
  },
  {
   "cell_type": "code",
   "execution_count": null,
   "id": "8a36b753-845c-4052-893c-bf2c36f2153b",
   "metadata": {},
   "outputs": [],
   "source": []
  }
 ],
 "metadata": {
  "kernelspec": {
   "display_name": "Python 3 (ipykernel)",
   "language": "python",
   "name": "python3"
  },
  "language_info": {
   "codemirror_mode": {
    "name": "ipython",
    "version": 3
   },
   "file_extension": ".py",
   "mimetype": "text/x-python",
   "name": "python",
   "nbconvert_exporter": "python",
   "pygments_lexer": "ipython3",
   "version": "3.10.8"
  }
 },
 "nbformat": 4,
 "nbformat_minor": 5
}
