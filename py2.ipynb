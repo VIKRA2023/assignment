{
 "cells": [
  {
   "cell_type": "code",
   "execution_count": 5,
   "id": "438c587d-ba7e-4628-a173-8ca06a27cef2",
   "metadata": {},
   "outputs": [
    {
     "name": "stdout",
     "output_type": "stream",
     "text": [
      "[1, 3, 5, 7, 9, 11, 13, 15, 17, 19, 21, 23, 25]\n"
     ]
    }
   ],
   "source": [
    "# Q1. Which keyword is used to create a function? Create a function to return a list of odd numbers in the  range of 1 to 25.\n",
    "# Ans. def keyword is used to create a function, followed by the function name and parentheses.\n",
    "def odd_numbers():\n",
    "    result = []\n",
    "    for i in range(1, 26):\n",
    "        if i % 2 == 1:\n",
    "            result.append(i)\n",
    "    return result\n",
    "print(odd_numbers())"
   ]
  },
  {
   "cell_type": "code",
   "execution_count": 17,
   "id": "c419e2a7-3235-4a20-98f0-989586ec43ea",
   "metadata": {},
   "outputs": [
    {
     "name": "stdout",
     "output_type": "stream",
     "text": [
      "The sum is 6\n",
      "The sum is 9\n",
      "Alice is 25 years old\n",
      "Bob is 30 years old\n",
      "Charlie is 35 years old\n",
      "David is 40 years old\n",
      "Eve is 45 years old\n",
      "Frank is 50 years old\n"
     ]
    }
   ],
   "source": [
    "# Q2. Why *args and **kwargs is used in some functions? Create a function each for *args and **kwargs  to demonstrate their use. \n",
    "# Ans. *args and *kwargs are used in some function to pass a variable number of arguments to the function. *args allows to pass a variable number of positional arguments, while **kwargs allows to pass a variable number of keyword arguments.\n",
    "def sum_args(*args):\n",
    "    total = 0\n",
    "    for arg in args:\n",
    "         total += arg\n",
    "    print(\"The sum is\", total)\n",
    "\n",
    "sum_args(1,2,3)\n",
    "sum_args(4,5)\n",
    "\n",
    "\n",
    "def print_people(**kwargs):\n",
    "    for name, age in kwargs.items():\n",
    "        print(name, \"is\", age, \"years old\")\n",
    "print_people(Alice = 25,Bob = 30, Charlie = 35)\n",
    "print_people(David=40)\n",
    "print_people(Eve=45, Frank=50)"
   ]
  },
  {
   "cell_type": "code",
   "execution_count": 3,
   "id": "8028f58e-7970-4fed-8a90-d2e718d264ed",
   "metadata": {},
   "outputs": [
    {
     "name": "stdout",
     "output_type": "stream",
     "text": [
      "2\n",
      "4\n",
      "6\n",
      "8\n",
      "10\n"
     ]
    }
   ],
   "source": [
    "# Q3.  What is an iterator in python? Name the method used to initialise the iterator object and the method  used for iteration. Use these methods to print the first five elements of the given list [2, 4, 6, 8, 10, 12, 14,  16, 18, 20]. \n",
    "# Ans. An iterator in Python is an object that can be iterated over, meaning that you can traverse through all the values. An iterator implements the iterator protocol which consist of the methods iter () and next ().The iter () method is used to initialize the interator object and return itself. The next () method is used to return the next value for the iterable. When there are no more values to return, it raises a stopiteration exception.\n",
    "my_list = [2,4,6,8,10,12,14,16,18,20]\n",
    "my_iter = iter(my_list)\n",
    "print(next(my_iter)),\n",
    "print(next(my_iter)),\n",
    "print(next(my_iter)),\n",
    "print(next(my_iter)),\n",
    "print(next(my_iter))"
   ]
  },
  {
   "cell_type": "code",
   "execution_count": 4,
   "id": "47ebb57b-a9c9-4483-b26b-239440fb9078",
   "metadata": {},
   "outputs": [
    {
     "name": "stdout",
     "output_type": "stream",
     "text": [
      "1\n",
      "3\n",
      "5\n",
      "7\n",
      "9\n"
     ]
    }
   ],
   "source": [
    "# Q4.  What is a generator function in python? Why yield keyword is used? Give an example of a generator  function.\n",
    "# Ans. A generator function in Python is a special type of function that returns an iterator object that can be iterated over to get a sequence of value.Unlike a normal function that return a single value and terminates, a generator function can yield multiple values and suspend its execution until the next value is requested. The yield keyword is used to indiacte where the generator function should pause and return the next value. When the generator function is called again, it resumes from where it left off.\n",
    "def odd_numbers(n):\n",
    "    num = 1\n",
    "    while num <= n:\n",
    "        yield num\n",
    "        num += 2\n",
    "gen = odd_numbers(10)\n",
    "\n",
    "print(next(gen))\n",
    "print(next(gen))\n",
    "print(next(gen))\n",
    "print(next(gen))\n",
    "print(next(gen))"
   ]
  },
  {
   "cell_type": "code",
   "execution_count": null,
   "id": "8bffb873-cf76-4a10-a0a9-29900080e1c8",
   "metadata": {},
   "outputs": [],
   "source": [
    "# Q5. Create a generator function for prime numbers less than 1000. Use the next() method to print the  first 20 prime numbers. \n",
    "def prime_numbers():\n",
    "    num = 2\n",
    "    while num < 1000:\n",
    "        is_prime = True\n",
    "        for factor in range(2, int(num ** 0.5) + 1):\n",
    "            if num % factor == 0:\n",
    "                is_prime = False\n",
    "                break\n",
    "            if is_prime:\n",
    "                yield num\n",
    "            num += 1\n",
    "gen = prime_numbers()\n",
    "for i in range(20):\n",
    "    print(next(gen))"
   ]
  },
  {
   "cell_type": "code",
   "execution_count": null,
   "id": "98685bf5-18fc-45c8-95a0-4a1908f1941c",
   "metadata": {},
   "outputs": [],
   "source": [
    "# Q6. Write a python program to print the first 10 Fibonacci numbers using a while loop. \n",
    "n1 = 0\n",
    "n2 = 1\n",
    "\n",
    "count = 0\n",
    "\n",
    "while count < 10:\n",
    "    print(n1)\n",
    "    nth = n1 + n2\n",
    "    \n",
    "    n1 = n2\n",
    "    n2 = nth\n",
    "    \n",
    "    count += 1\n",
    "    "
   ]
  },
  {
   "cell_type": "code",
   "execution_count": null,
   "id": "f6b908b6-2042-4495-af43-028d6e30780e",
   "metadata": {},
   "outputs": [],
   "source": [
    "# Q7. Write a List Comprehension to iterate through the given string: ‘pwskills’. Expected output: ['p', 'w', 's', 'k', 'i', 'l', 'l', 's']\n",
    "s = 'pwskills'\n",
    "result = [char for char in s]\n",
    "print(result)"
   ]
  },
  {
   "cell_type": "code",
   "execution_count": null,
   "id": "f493823f-954f-465a-9251-a8530ef1249e",
   "metadata": {},
   "outputs": [],
   "source": [
    "# Q8. Write a python program to check whether a given number is Palindrome or not using a while loop.\n",
    "num = int(input(\"Enter a number: \"))\n",
    "reverse = 0\n",
    "original = num\n",
    "while num > 0:\n",
    "    digit = num % 10\n",
    "    reverse = reverse * 10 + digit\n",
    "    num = num // 10\n",
    "if original == reverse:\n",
    "    print(original, \"is palindrome\")\n",
    "else:\n",
    "    print(original, \"is not palindrome\")"
   ]
  },
  {
   "cell_type": "code",
   "execution_count": null,
   "id": "3cb04ce2-9c22-4caf-8668-f9b3688f6a23",
   "metadata": {},
   "outputs": [],
   "source": [
    "# Q9. Write a code to print odd numbers from 1 to 100 using list comprehension. \n",
    "numbers = [x for x in range(1,101)]\n",
    "odd_numbers = [x for x in numbers if x % 2 == 1]\n",
    "print(odd_numbers)\n"
   ]
  },
  {
   "cell_type": "code",
   "execution_count": null,
   "id": "1d22ee92-103b-48c6-87ec-9888133fc0e9",
   "metadata": {},
   "outputs": [],
   "source": []
  }
 ],
 "metadata": {
  "kernelspec": {
   "display_name": "Python 3 (ipykernel)",
   "language": "python",
   "name": "python3"
  },
  "language_info": {
   "codemirror_mode": {
    "name": "ipython",
    "version": 3
   },
   "file_extension": ".py",
   "mimetype": "text/x-python",
   "name": "python",
   "nbconvert_exporter": "python",
   "pygments_lexer": "ipython3",
   "version": "3.10.8"
  }
 },
 "nbformat": 4,
 "nbformat_minor": 5
}
