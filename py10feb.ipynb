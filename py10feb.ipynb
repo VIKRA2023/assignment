{
 "cells": [
  {
   "cell_type": "markdown",
   "id": "d5ded103-9f71-4e08-8ce4-374794c97e04",
   "metadata": {},
   "source": [
    "# Q1. Which function is used to open a file? What are the different modes of opening a file? Explain each mode of file opening.\n",
    "In Python, the open() function is used to open a file. This function takes two arguments: the path to the file to be opened, and the mode in which to open the file.\n",
    "\n",
    "The different modes of opening a file in Python are:\n",
    "\n",
    "'r': Read mode. This mode is used for reading the contents of a file. If the file does not exist, an error will be raised.\n",
    "\n",
    "'w': Write mode. This mode is used for writing to a file. If the file does not exist, a new file will be created. If the file already exists, its contents will be overwritten.\n",
    "\n",
    "'a': Append mode. This mode is used for adding new content to the end of a file. If the file does not exist, a new file will be created.\n",
    "\n",
    "'x': Exclusive creation mode. This mode is used for creating a new file. If the file already exists, an error will be raised.\n",
    "\n",
    "'b': Binary mode. This mode is used for working with binary files, such as images or audio files.\n",
    "\n",
    "'t': Text mode. This mode is used for working with text files. This is the default mode if no mode is specified.\n",
    "\n",
    "'+': Read and write mode. This mode is used for both reading and writing to a file."
   ]
  },
  {
   "cell_type": "code",
   "execution_count": 18,
   "id": "cfdb3025-205d-47a0-af6c-a4a145c73da5",
   "metadata": {},
   "outputs": [
    {
     "name": "stdout",
     "output_type": "stream",
     "text": [
      "This is some example text.\n",
      "This is some additional text.\n"
     ]
    }
   ],
   "source": [
    "# Write mode\n",
    "file = open(\"example.txt\", \"w\")\n",
    "file.write(\"This is some example text.\")\n",
    "file.close()\n",
    "\n",
    "# Append mode\n",
    "file = open(\"example.txt\", \"a\")\n",
    "file.write(\"\\nThis is some additional text.\")\n",
    "file.close()\n",
    "\n",
    "# Read mode\n",
    "file = open(\"example.txt\", \"r\")\n",
    "content = file.read()\n",
    "print(content)\n",
    "file.close()\n",
    "\n",
    "# Exclusive creation mode\n",
    "file = open(\"example1.txt\", \"x\")\n",
    "file.write(\"This is some example text.\")\n",
    "file.close()\n",
    "\n",
    "# Binary mode\n",
    "file = open(\"example.txt\", \"rb\")\n",
    "content = file.read()\n",
    "file.close()\n",
    "\n",
    "# Text mode\n",
    "file = open(\"example.txt\", \"rt\")\n",
    "content = file.read()\n",
    "file.close()\n",
    "\n",
    "# Read and write mode\n",
    "file = open(\"example.txt\", \"r+\")\n",
    "content = file.read()\n",
    "file.write(\"\\nThis is some additional text.\")\n",
    "file.close()"
   ]
  },
  {
   "cell_type": "markdown",
   "id": "fc1c8827-dde6-48c8-bb81-d1fa8f4c83ff",
   "metadata": {},
   "source": [
    "# Q2. Why close() function is used? Why is it important to close a file?\n",
    "Ans. The close() function is used to close an open file in Python. It is important to close a file because it frees up the resources that are associated with the file and prevents any data loss or corruption."
   ]
  },
  {
   "cell_type": "code",
   "execution_count": 20,
   "id": "5e7b3fb3-43f6-4fae-abf5-5aa2d23c4df1",
   "metadata": {},
   "outputs": [
    {
     "name": "stdout",
     "output_type": "stream",
     "text": [
      "I want to become a Data Scientist\n"
     ]
    },
    {
     "data": {
      "text/plain": [
       "<function TextIOWrapper.close()>"
      ]
     },
     "execution_count": 20,
     "metadata": {},
     "output_type": "execute_result"
    }
   ],
   "source": [
    "# Q3. Write a python program to create a text file. Write ‘I want to become a Data Scientist’ in that file. Then close the file. Open this file and read the content of the file.\n",
    "f = open(\"my_file.txt\",\"w\")\n",
    "f.write(\"I want to become a Data Scientist\")\n",
    "f.close\n",
    "\n",
    "f = open(\"my_file.txt\", \"r\")\n",
    "content = f.read()\n",
    "print(content)\n",
    "f.close"
   ]
  },
  {
   "cell_type": "markdown",
   "id": "16a38d9d-06e9-4773-adf7-aa18e3d167dc",
   "metadata": {},
   "source": [
    "# Q4. Explain the following with python code: read(), readline() and readlines().\n",
    "Ans. The read(), readline() and readlines() methods are used to read content from a file in Python. They have different behaviours and use cases:"
   ]
  },
  {
   "cell_type": "code",
   "execution_count": 21,
   "id": "8803f5a2-c61d-4451-a65c-2fff7429bcfb",
   "metadata": {},
   "outputs": [
    {
     "name": "stdout",
     "output_type": "stream",
     "text": [
      "This is some example text.\n",
      "This is some additional text.\n",
      "This is some additional text.\n"
     ]
    }
   ],
   "source": [
    "# 1. The read() method reads the entire file and returns a string.\n",
    "f = open(\"example.txt\", \"r\")\n",
    "content = f.read()\n",
    "print(content)\n",
    "f.close()"
   ]
  },
  {
   "cell_type": "code",
   "execution_count": 22,
   "id": "cc4ed1c5-b791-4b8d-9708-9c175a976fdd",
   "metadata": {},
   "outputs": [
    {
     "name": "stdout",
     "output_type": "stream",
     "text": [
      "This is some example text.\n",
      "\n"
     ]
    }
   ],
   "source": [
    "# 2. The readline() method reads one line from the file and returns a string. It also appends a newline character at the end of the line.\n",
    "f = open(\"example.txt\", \"r\")\n",
    "line = f.readline()\n",
    "print(line)\n",
    "f.close()"
   ]
  },
  {
   "cell_type": "code",
   "execution_count": 23,
   "id": "0215e487-3dd9-47fc-9257-799a721acaa3",
   "metadata": {},
   "outputs": [
    {
     "name": "stdout",
     "output_type": "stream",
     "text": [
      "['This is some example text.\\n', 'This is some additional text.\\n', 'This is some additional text.']\n"
     ]
    },
    {
     "data": {
      "text/plain": [
       "<function TextIOWrapper.close()>"
      ]
     },
     "execution_count": 23,
     "metadata": {},
     "output_type": "execute_result"
    }
   ],
   "source": [
    "# 3. The readlines() method reads all the lines from the file and returns a list of strings. Each string reperesnts one line of the file.\n",
    "f = open(\"example.txt\", \"r\")\n",
    "lines = f.readlines()\n",
    "print(lines)\n",
    "f.close"
   ]
  },
  {
   "cell_type": "markdown",
   "id": "4312c83f-77a0-464e-856c-a362ef772be8",
   "metadata": {},
   "source": [
    "# Q5. Explain why with statement is used with open(). What is the advantage of using with statement andopen() together?\n",
    "Ans. THe with statement is used with open() to simplify the management of file resourses in Python. It ensures that the file is properly closed after its operations are done, even if an exception occusrs during the process. THe advantage of using with the statement and open() together is that it makes the code cleaner, more readable, and less prone to errors or leaks."
   ]
  },
  {
   "cell_type": "code",
   "execution_count": 26,
   "id": "a0188302-f83a-45b0-8176-3bb7209ff43a",
   "metadata": {},
   "outputs": [
    {
     "name": "stdout",
     "output_type": "stream",
     "text": [
      "This is some example text.\n",
      "This is some additional text.\n",
      "This is some additional text.\n"
     ]
    }
   ],
   "source": [
    "with open(\"example.txt\", \"r\") as f :\n",
    "    content = f.read()\n",
    "    print(content)"
   ]
  },
  {
   "cell_type": "markdown",
   "id": "2ce90ecf-f942-4728-9109-9713e834c52f",
   "metadata": {},
   "source": [
    "# Q6. Explain the write() and writelines() functions. Give a suitable example.\n",
    "Ans. The write() and writelines() functions are used to write data to a file in Python. They have different behaviours and use cases."
   ]
  },
  {
   "cell_type": "code",
   "execution_count": 4,
   "id": "0b2b6b26-d119-4987-9355-f34bb438841c",
   "metadata": {},
   "outputs": [],
   "source": [
    "# 1. The write function writes a string of data to a file. It takes a single argument, which is the string to be written. The string can contain any characters, including numbers, symbols or special characters. The write() function does not add a newline character at the end of the string.\n",
    "\n",
    "f = open(\"example.txt\", \"w\")\n",
    "f.write(\"Hello world!\")\n",
    "f.close()"
   ]
  },
  {
   "cell_type": "code",
   "execution_count": 3,
   "id": "9464418b-36ec-4115-8e97-b6c864b82118",
   "metadata": {},
   "outputs": [],
   "source": [
    "# 2. The writelines() function writes a list of strings to a file. It takes a single agument, which is an iterable of strings, such as a list or a tuple. Each string represent one line of the file. THe writeliens() function does not add a newline character at the end of each string.\n",
    "\n",
    "f = open(\"example.txt\",\"w\")\n",
    "f.writelines([\"Hello World!\\n\", \"This is a text file.\\n\"])\n",
    "f.close()\n"
   ]
  },
  {
   "cell_type": "code",
   "execution_count": null,
   "id": "f7726cfd-9713-418c-a262-07e5e6b093e8",
   "metadata": {},
   "outputs": [],
   "source": []
  }
 ],
 "metadata": {
  "kernelspec": {
   "display_name": "Python 3 (ipykernel)",
   "language": "python",
   "name": "python3"
  },
  "language_info": {
   "codemirror_mode": {
    "name": "ipython",
    "version": 3
   },
   "file_extension": ".py",
   "mimetype": "text/x-python",
   "name": "python",
   "nbconvert_exporter": "python",
   "pygments_lexer": "ipython3",
   "version": "3.10.8"
  }
 },
 "nbformat": 4,
 "nbformat_minor": 5
}
