{
 "cells": [
  {
   "cell_type": "markdown",
   "id": "d1837402-cd1a-4f21-8e23-48f83bc62e2a",
   "metadata": {},
   "source": [
    "Que 1. What is the syntax for adding an element to a list in Python?"
   ]
  },
  {
   "cell_type": "code",
   "execution_count": 1,
   "id": "80b07ed8-17c1-4c8b-a681-edfe5d469f6f",
   "metadata": {},
   "outputs": [
    {
     "name": "stdout",
     "output_type": "stream",
     "text": [
      "[2, 3, 4, 5, 6]\n"
     ]
    }
   ],
   "source": [
    "# Ans. The syntax for adding an element to a list in Python is append()\n",
    "l1 = [2, 3, 4, 5]\n",
    "l1.append(6)\n",
    "print (l1)"
   ]
  },
  {
   "cell_type": "markdown",
   "id": "2fb69330-b76b-43c1-98de-7b9429bfa554",
   "metadata": {},
   "source": [
    "Que 2. What is the difference between remove() and pop() functions in Python?"
   ]
  },
  {
   "cell_type": "markdown",
   "id": "6bf8600d-cd98-41a2-9ef1-3867eb731645",
   "metadata": {},
   "source": [
    "In Python, both remove() and pop() are methods used to remove elements from a list, but they have different behaviors:\n",
    "    remove(): This method is used to remove the first occurrence of a specified value from the list. It takes the value you want to remove as an argument.\n",
    "\n",
    "Syntax: list.remove(value)\n"
   ]
  },
  {
   "cell_type": "code",
   "execution_count": 2,
   "id": "f047b820-52f1-4963-a490-3617073593e6",
   "metadata": {},
   "outputs": [
    {
     "name": "stdout",
     "output_type": "stream",
     "text": [
      "[1, 2, 3, 5, 6]\n"
     ]
    }
   ],
   "source": [
    "l2 = [1, 2, 3, 3, 5, 6]\n",
    "l2.remove(3)\n",
    "print (l2)"
   ]
  },
  {
   "cell_type": "markdown",
   "id": "440c2479-2d3a-4038-99f1-962321c187ef",
   "metadata": {},
   "source": [
    "pop(): This method is used to remove and return the element at a specific index (by default, the last element if no index is specified). It takes the index of the element you want to remove as an argument.\n",
    "\n",
    "Syntax: list.pop(index)"
   ]
  },
  {
   "cell_type": "code",
   "execution_count": 3,
   "id": "44b453d6-5bf0-477e-9b03-19604f246179",
   "metadata": {},
   "outputs": [
    {
     "name": "stdout",
     "output_type": "stream",
     "text": [
      "['sukesh', 'rakesh', 'ramesh']\n"
     ]
    }
   ],
   "source": [
    "l3 = [\"sukesh\", \"rakesh\", \"mukesh\", \"ramesh\"]\n",
    "l3.pop(2)\n",
    "print(l3)"
   ]
  },
  {
   "cell_type": "markdown",
   "id": "b939e40d-977c-423d-82b4-7eeab531fb4f",
   "metadata": {},
   "source": [
    "Que 3. Write a Python code to sort a list in descending order."
   ]
  },
  {
   "cell_type": "code",
   "execution_count": 4,
   "id": "008f4a6c-1f63-42ec-9974-ebf8e5d21b3a",
   "metadata": {},
   "outputs": [
    {
     "name": "stdout",
     "output_type": "stream",
     "text": [
      "[89, 56, 55, 45, 5, 3, 3, 2]\n"
     ]
    }
   ],
   "source": [
    "l4 = [2, 3, 56, 3, 5, 55, 89, 45]\n",
    "l4.sort(reverse=True)\n",
    "print (l4)"
   ]
  },
  {
   "cell_type": "markdown",
   "id": "fd5b5da6-6e6c-4e51-bc18-a393ff410a53",
   "metadata": {},
   "source": [
    "Que 4. Write a Python code to count the number of occurrences of an element in a list."
   ]
  },
  {
   "cell_type": "code",
   "execution_count": 5,
   "id": "3a064d45-ba8f-486c-b860-cd802510d7db",
   "metadata": {},
   "outputs": [
    {
     "data": {
      "text/plain": [
       "8"
      ]
     },
     "execution_count": 5,
     "metadata": {},
     "output_type": "execute_result"
    }
   ],
   "source": [
    "len(l4)"
   ]
  },
  {
   "cell_type": "markdown",
   "id": "ed8ab185-af25-4883-9ce6-9a60456291d6",
   "metadata": {},
   "source": [
    "Que 5. Write a Python code to reverse a list."
   ]
  },
  {
   "cell_type": "code",
   "execution_count": 8,
   "id": "e8c6741d-8f49-4424-87cd-46c0fdea232c",
   "metadata": {},
   "outputs": [
    {
     "name": "stdout",
     "output_type": "stream",
     "text": [
      "['ramesh', 'rakesh', 'sukesh']\n"
     ]
    }
   ],
   "source": [
    "l3.reverse()\n",
    "print(l3)"
   ]
  },
  {
   "cell_type": "code",
   "execution_count": null,
   "id": "689089a1-7cd8-4d15-99f7-17f4a8fe43bf",
   "metadata": {},
   "outputs": [],
   "source": []
  }
 ],
 "metadata": {
  "kernelspec": {
   "display_name": "Python 3 (ipykernel)",
   "language": "python",
   "name": "python3"
  },
  "language_info": {
   "codemirror_mode": {
    "name": "ipython",
    "version": 3
   },
   "file_extension": ".py",
   "mimetype": "text/x-python",
   "name": "python",
   "nbconvert_exporter": "python",
   "pygments_lexer": "ipython3",
   "version": "3.10.8"
  }
 },
 "nbformat": 4,
 "nbformat_minor": 5
}
