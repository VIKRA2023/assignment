{
 "cells": [
  {
   "cell_type": "markdown",
   "id": "3542e2a4-b6ca-4a34-9008-6845643a2fa8",
   "metadata": {},
   "source": [
    "# Q1. What is Flask Framework? What are the advantages of Flask Framework?\n",
    "Ans. Flask is a popular Python web framework that allows developers to build web applications quickly and efficiently. It is lightweight and designed to be simple yet powerful, providing a solid foundation for developing web applications.\n",
    "\n",
    "Here are some advantages of using Flask framework:\n",
    "\n",
    "Lightweight and Flexible: Flask is a micro-framework, which means it has a small and simple core. It does not come bundled with unnecessary features, allowing developers to choose the components they need and customize their application as per their requirements. This flexibility makes Flask suitable for both small and large-scale applications.\n",
    "\n",
    "Easy to Get Started: Flask has a straightforward syntax and a minimalistic design philosophy. It provides a simple and intuitive API that makes it easy for developers to get started quickly. The learning curve for Flask is relatively low compared to other web frameworks, making it an excellent choice for beginners.\n",
    "\n",
    "Extensibility: Flask is highly extensible, allowing developers to add additional functionality using various Flask extensions. These extensions cover a wide range of features such as database integration, form validation, authentication, and more. Flask's extensibility enables developers to tailor their applications to meet specific needs easily.\n",
    "\n",
    "Integrated Testing Support: Flask provides built-in support for testing, making it easier to write and execute tests for your application. It includes a test client that can simulate requests to your application, allowing you to verify the behavior and functionality of different parts of your codebase."
   ]
  },
  {
   "cell_type": "markdown",
   "id": "9e820179-4119-4ca0-a61d-abfb6968816e",
   "metadata": {},
   "source": [
    "# Q2. Create a simple Flask application to display ‘Hello World!!’. Attach the screenshot of the output in Jupyter Notebook.\n"
   ]
  },
  {
   "cell_type": "code",
   "execution_count": 6,
   "id": "d1043569-a728-4f66-b457-7a9652e5f34e",
   "metadata": {},
   "outputs": [
    {
     "name": "stdout",
     "output_type": "stream",
     "text": [
      "Collecting flask\n",
      "  Downloading Flask-2.3.2-py3-none-any.whl (96 kB)\n",
      "\u001b[2K     \u001b[90m━━━━━━━━━━━━━━━━━━━━━━━━━━━━━━━━━━━━━━━━\u001b[0m \u001b[32m96.9/96.9 kB\u001b[0m \u001b[31m9.9 MB/s\u001b[0m eta \u001b[36m0:00:00\u001b[0m\n",
      "\u001b[?25hCollecting Werkzeug>=2.3.3\n",
      "  Downloading Werkzeug-2.3.6-py3-none-any.whl (242 kB)\n",
      "\u001b[2K     \u001b[90m━━━━━━━━━━━━━━━━━━━━━━━━━━━━━━━━━━━━━━\u001b[0m \u001b[32m242.5/242.5 kB\u001b[0m \u001b[31m29.2 MB/s\u001b[0m eta \u001b[36m0:00:00\u001b[0m\n",
      "\u001b[?25hRequirement already satisfied: click>=8.1.3 in /opt/conda/lib/python3.10/site-packages (from flask) (8.1.3)\n",
      "Collecting blinker>=1.6.2\n",
      "  Downloading blinker-1.6.2-py3-none-any.whl (13 kB)\n",
      "Collecting itsdangerous>=2.1.2\n",
      "  Downloading itsdangerous-2.1.2-py3-none-any.whl (15 kB)\n",
      "Requirement already satisfied: Jinja2>=3.1.2 in /opt/conda/lib/python3.10/site-packages (from flask) (3.1.2)\n",
      "Requirement already satisfied: MarkupSafe>=2.0 in /opt/conda/lib/python3.10/site-packages (from Jinja2>=3.1.2->flask) (2.1.1)\n",
      "Installing collected packages: Werkzeug, itsdangerous, blinker, flask\n",
      "  Attempting uninstall: blinker\n",
      "    Found existing installation: blinker 1.5\n",
      "    Uninstalling blinker-1.5:\n",
      "      Successfully uninstalled blinker-1.5\n",
      "Successfully installed Werkzeug-2.3.6 blinker-1.6.2 flask-2.3.2 itsdangerous-2.1.2\n",
      "Note: you may need to restart the kernel to use updated packages.\n"
     ]
    }
   ],
   "source": [
    "pip install flask\n"
   ]
  },
  {
   "cell_type": "code",
   "execution_count": null,
   "id": "f26cc5f0-6571-4b6a-9fee-591538a27f3d",
   "metadata": {},
   "outputs": [
    {
     "name": "stdout",
     "output_type": "stream",
     "text": [
      " * Serving Flask app '__main__'\n",
      " * Debug mode: off\n"
     ]
    },
    {
     "name": "stderr",
     "output_type": "stream",
     "text": [
      "WARNING: This is a development server. Do not use it in a production deployment. Use a production WSGI server instead.\n",
      " * Running on all addresses (0.0.0.0)\n",
      " * Running on http://127.0.0.1:5000\n",
      " * Running on http://172.18.0.13:5000\n",
      "Press CTRL+C to quit\n",
      "172.18.0.2 - - [25/Jun/2023 19:39:17] \"GET / HTTP/1.1\" 200 -\n",
      "172.18.0.2 - - [25/Jun/2023 19:39:19] \"GET /favicon.ico HTTP/1.1\" 404 -\n"
     ]
    }
   ],
   "source": [
    "from flask import Flask\n",
    "\n",
    "app = Flask(__name__)\n",
    "\n",
    "@app.route('/')\n",
    "def hello_world():\n",
    "    return 'Hello World!!'\n",
    "\n",
    "if __name__ == '__main__':\n",
    "    app.run(host=\"0.0.0.0\")\n"
   ]
  },
  {
   "cell_type": "markdown",
   "id": "b04f79ae-78e9-4150-8bf6-f887de005c06",
   "metadata": {},
   "source": [
    "# Q3. What is App routing in Flask? Why do we use app routes?\n",
    "Ans. In Flask, app routing refers to the process of mapping URLs (Uniform Resource Locators) to specific functions or views in your application. It allows you to define different routes or endpoints for your application, specifying the URL patterns that trigger specific actions or generate specific responses.\n",
    "\n",
    "The @app.route() decorator is used to define routes in Flask. It binds a URL pattern to a Python function, indicating which function should be executed when a particular URL is accessed.\n",
    "App routing is essential in Flask for several reasons:\n",
    "\n",
    "Handling Different URLs: App routing allows you to define different URL patterns for different functionalities or pages in your web application. Each route can be associated with a specific function that generates the appropriate response.\n",
    "\n",
    "URL Parameterization: Routes can include placeholders or variables, allowing you to capture dynamic values from the URL. These placeholders can be accessed within the corresponding function and used to customize the response or perform specific actions based on the provided parameters.\n",
    "\n",
    "RESTful APIs: App routing is particularly useful when building RESTful APIs in Flask. You can define routes for different HTTP methods (GET, POST, PUT, DELETE, etc.) and map them to appropriate functions to handle the corresponding requests.\n",
    "\n",
    "Modular Code Organization: By using app routing, you can keep your code organized and structured. Each route is associated with a specific function, making it easier to maintain and update different parts of your application separately."
   ]
  },
  {
   "cell_type": "markdown",
   "id": "f5b270d8-41d5-4499-8ace-a095c4b1d655",
   "metadata": {},
   "source": [
    "# Q4. Create a “/welcome” route to display the welcome message “Welcome to ABC Corporation” and a “/”\n",
    "# route to show the following details:\n",
    "# Company Name: ABC Corporation\n",
    "# Location: India\n",
    "# Contact Detail: 999-999-9999"
   ]
  },
  {
   "cell_type": "code",
   "execution_count": null,
   "id": "d346ac8a-0214-40da-9950-31f58380ebbc",
   "metadata": {},
   "outputs": [
    {
     "name": "stdout",
     "output_type": "stream",
     "text": [
      " * Serving Flask app '__main__'\n",
      " * Debug mode: off\n"
     ]
    },
    {
     "name": "stderr",
     "output_type": "stream",
     "text": [
      "WARNING: This is a development server. Do not use it in a production deployment. Use a production WSGI server instead.\n",
      " * Running on all addresses (0.0.0.0)\n",
      " * Running on http://127.0.0.1:5000\n",
      " * Running on http://172.18.0.13:5000\n",
      "Press CTRL+C to quit\n",
      "172.18.0.2 - - [25/Jun/2023 19:58:11] \"GET / HTTP/1.1\" 200 -\n"
     ]
    }
   ],
   "source": [
    "from flask import Flask\n",
    "\n",
    "app = Flask(__name__)\n",
    "\n",
    "@app.route('/welcome')\n",
    "def welcome():\n",
    "    return 'Welcome to ABC Corporation'\n",
    "\n",
    "@app.route('/')\n",
    "def details():\n",
    "    return '''Company Name: ABC Corporation\n",
    "    Location: India\n",
    "    Contact Detail: 999-999-9999'''\n",
    "\n",
    "if __name__ == '__main__':\n",
    "    app.run(host=\"0.0.0.0\")\n"
   ]
  },
  {
   "cell_type": "markdown",
   "id": "d15bb1e3-b634-41ce-9b59-a862258ede5a",
   "metadata": {},
   "source": [
    "# Q5. What function is used in Flask for URL Building? Write a Python code to demonstrate the working of the url_for() function.\n",
    "Ans. In Flask, the url_for() function is used for URL building. It generates a URL for a given endpoint (function or view) based on its name. The url_for() function takes the endpoint name as its first argument and optional keyword arguments for any route parameters defined in the endpoint."
   ]
  },
  {
   "cell_type": "code",
   "execution_count": 1,
   "id": "134a49a6-e61f-4644-b23b-b075dbe968a4",
   "metadata": {},
   "outputs": [
    {
     "name": "stdout",
     "output_type": "stream",
     "text": [
      "/\n",
      "/user/John\n",
      "/post/123\n",
      "/login\n"
     ]
    }
   ],
   "source": [
    "from flask import Flask, url_for\n",
    "\n",
    "app = Flask(__name__)\n",
    "\n",
    "@app.route('/')\n",
    "def index():\n",
    "    return 'This is the homepage.'\n",
    "\n",
    "@app.route('/user/<username>')\n",
    "def user_profile(username):\n",
    "    return f'Welcome to the profile page of {username}.'\n",
    "\n",
    "@app.route('/post/<int:post_id>')\n",
    "def show_post(post_id):\n",
    "    return f'This is the post with ID: {post_id}'\n",
    "\n",
    "@app.route('/login')\n",
    "def login():\n",
    "    return 'Please login to continue.'\n",
    "\n",
    "with app.test_request_context():\n",
    "    print(url_for('index'))  # Output: /\n",
    "    print(url_for('user_profile', username='John'))  # Output: /user/John\n",
    "    print(url_for('show_post', post_id=123))  # Output: /post/123\n",
    "    print(url_for('login'))  # Output: /login\n"
   ]
  },
  {
   "cell_type": "code",
   "execution_count": null,
   "id": "32532c1e-fcdb-4d94-bc57-2291cedbdd3e",
   "metadata": {},
   "outputs": [],
   "source": []
  },
  {
   "cell_type": "code",
   "execution_count": null,
   "id": "b8e18e69-1e08-4f48-931c-1a4c7586079a",
   "metadata": {},
   "outputs": [],
   "source": []
  }
 ],
 "metadata": {
  "kernelspec": {
   "display_name": "Python 3 (ipykernel)",
   "language": "python",
   "name": "python3"
  },
  "language_info": {
   "codemirror_mode": {
    "name": "ipython",
    "version": 3
   },
   "file_extension": ".py",
   "mimetype": "text/x-python",
   "name": "python",
   "nbconvert_exporter": "python",
   "pygments_lexer": "ipython3",
   "version": "3.10.8"
  }
 },
 "nbformat": 4,
 "nbformat_minor": 5
}
