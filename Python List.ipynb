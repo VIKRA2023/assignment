{
 "cells": [
  {
   "cell_type": "markdown",
   "id": "cd3519ff-44b8-457f-bedb-3f7d3121c201",
   "metadata": {},
   "source": [
    "Que 1. Create an Empty List."
   ]
  },
  {
   "cell_type": "code",
   "execution_count": 1,
   "id": "3c210f3c-dc57-4ed9-b713-54be3fe6e563",
   "metadata": {},
   "outputs": [],
   "source": [
    "l = []"
   ]
  },
  {
   "cell_type": "code",
   "execution_count": 2,
   "id": "4c4e0f7b-d4c1-4d35-b5e1-9996a3d3c9f6",
   "metadata": {},
   "outputs": [
    {
     "data": {
      "text/plain": [
       "[]"
      ]
     },
     "execution_count": 2,
     "metadata": {},
     "output_type": "execute_result"
    }
   ],
   "source": [
    "l"
   ]
  },
  {
   "cell_type": "markdown",
   "id": "f2489f41-5071-4667-904e-1f747e5135a5",
   "metadata": {},
   "source": [
    "Que 2. Create a list and add an element to the end of this list."
   ]
  },
  {
   "cell_type": "code",
   "execution_count": 3,
   "id": "e90a1638-17aa-4cd4-bd4b-f774a3fba40a",
   "metadata": {},
   "outputs": [],
   "source": [
    "l1 = [0, 1, 2, 3, 4, 5, \"python\"]"
   ]
  },
  {
   "cell_type": "code",
   "execution_count": 4,
   "id": "75cc3101-63c6-46e2-b423-98fcc26392c1",
   "metadata": {},
   "outputs": [
    {
     "data": {
      "text/plain": [
       "[0, 1, 2, 3, 4, 5, 'python']"
      ]
     },
     "execution_count": 4,
     "metadata": {},
     "output_type": "execute_result"
    }
   ],
   "source": [
    "l1"
   ]
  },
  {
   "cell_type": "code",
   "execution_count": 8,
   "id": "3e2edb34-ff98-4322-921c-94cf4a90d342",
   "metadata": {},
   "outputs": [],
   "source": [
    "l1.append(\"list\")"
   ]
  },
  {
   "cell_type": "code",
   "execution_count": 9,
   "id": "e53aad68-3a20-4487-9e7a-0f3dd296ff73",
   "metadata": {},
   "outputs": [
    {
     "data": {
      "text/plain": [
       "[0, 1, 2, 3, 4, 5, 'python', 'list']"
      ]
     },
     "execution_count": 9,
     "metadata": {},
     "output_type": "execute_result"
    }
   ],
   "source": [
    "l1"
   ]
  },
  {
   "cell_type": "markdown",
   "id": "f42a10ab-aa89-474a-9297-789ac9df15fe",
   "metadata": {},
   "source": [
    "Que 3. For the above created list print the last element."
   ]
  },
  {
   "cell_type": "code",
   "execution_count": 11,
   "id": "38f50b20-5d5f-4664-9f6a-ad7dba9e7cb3",
   "metadata": {},
   "outputs": [
    {
     "name": "stdout",
     "output_type": "stream",
     "text": [
      "list\n"
     ]
    }
   ],
   "source": [
    "print (l1[7])"
   ]
  },
  {
   "cell_type": "markdown",
   "id": "ba2b5aa5-cedd-4e16-92c8-8d9815238b40",
   "metadata": {},
   "source": [
    "QUe 4. Reverse the above created list."
   ]
  },
  {
   "cell_type": "code",
   "execution_count": 12,
   "id": "dcd0271a-9a82-437a-b617-7e84ba44edc9",
   "metadata": {},
   "outputs": [
    {
     "data": {
      "text/plain": [
       "['list', 'python', 5, 4, 3, 2, 1, 0]"
      ]
     },
     "execution_count": 12,
     "metadata": {},
     "output_type": "execute_result"
    }
   ],
   "source": [
    "l1[::-1]"
   ]
  },
  {
   "cell_type": "markdown",
   "id": "c604440b-0700-43fb-b614-e0d5fe0ec446",
   "metadata": {},
   "source": [
    "Que 5. Sort the above created list."
   ]
  },
  {
   "cell_type": "code",
   "execution_count": 16,
   "id": "3d0bfd8e-a13d-4db7-8255-2d0d0be8f048",
   "metadata": {},
   "outputs": [
    {
     "ename": "TypeError",
     "evalue": "'<' not supported between instances of 'str' and 'int'",
     "output_type": "error",
     "traceback": [
      "\u001b[0;31m---------------------------------------------------------------------------\u001b[0m",
      "\u001b[0;31mTypeError\u001b[0m                                 Traceback (most recent call last)",
      "Cell \u001b[0;32mIn[16], line 1\u001b[0m\n\u001b[0;32m----> 1\u001b[0m \u001b[43ml1\u001b[49m\u001b[38;5;241;43m.\u001b[39;49m\u001b[43msort\u001b[49m\u001b[43m(\u001b[49m\u001b[43m)\u001b[49m\n",
      "\u001b[0;31mTypeError\u001b[0m: '<' not supported between instances of 'str' and 'int'"
     ]
    }
   ],
   "source": [
    "l1.sort()"
   ]
  },
  {
   "cell_type": "markdown",
   "id": "d2002c36-4c46-4098-9713-4b2827a17759",
   "metadata": {},
   "source": [
    "Que 6. Create a list of your top three favourite movies, then print the second movie title."
   ]
  },
  {
   "cell_type": "code",
   "execution_count": 17,
   "id": "110e04d8-65f1-4e3d-a6a1-528519a84bf7",
   "metadata": {},
   "outputs": [
    {
     "name": "stdout",
     "output_type": "stream",
     "text": [
      "Iron Man\n"
     ]
    }
   ],
   "source": [
    "m1 = [\"3Idiots\", \"Iron Man\", \"Chennai Express\"]\n",
    "print (m1[1])"
   ]
  },
  {
   "cell_type": "markdown",
   "id": "4aa85cc9-7590-4f85-b95c-579ee70ca692",
   "metadata": {},
   "source": [
    "Que 7. Create a list of your favourite cities, then use the index() method to find the position of a specific city on the list and print it."
   ]
  },
  {
   "cell_type": "code",
   "execution_count": 20,
   "id": "47d1f314-97f3-4c64-af9d-ad90efc89524",
   "metadata": {},
   "outputs": [
    {
     "name": "stdout",
     "output_type": "stream",
     "text": [
      "3\n"
     ]
    }
   ],
   "source": [
    "city = [\"Kannauj\", \"Kanpur\", \"Delhi\", \"Jaipur\", \"Gurugram\"]\n",
    "print (city.index(\"Jaipur\"))\n"
   ]
  },
  {
   "cell_type": "code",
   "execution_count": null,
   "id": "7e723336-c6c5-46b8-9293-f52259f76032",
   "metadata": {},
   "outputs": [],
   "source": []
  }
 ],
 "metadata": {
  "kernelspec": {
   "display_name": "Python 3 (ipykernel)",
   "language": "python",
   "name": "python3"
  },
  "language_info": {
   "codemirror_mode": {
    "name": "ipython",
    "version": 3
   },
   "file_extension": ".py",
   "mimetype": "text/x-python",
   "name": "python",
   "nbconvert_exporter": "python",
   "pygments_lexer": "ipython3",
   "version": "3.10.8"
  }
 },
 "nbformat": 4,
 "nbformat_minor": 5
}
